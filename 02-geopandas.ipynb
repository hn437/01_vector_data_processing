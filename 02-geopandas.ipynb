{
 "cells": [
  {
   "cell_type": "markdown",
   "metadata": {},
   "source": [
    "# Part 3: Vector Data Analysis using GeoPandas"
   ]
  },
  {
   "cell_type": "markdown",
   "metadata": {},
   "source": [
    "With shapely we can perform geospatial operations on single features, but in a normal geospatial analysis we have to perform such operations on whole layers. Within GIS software (e.g. QGIS) vector layers are usually represented as attribute tables with associated geometries. \n",
    "\n",
    "In Python, analyses based on tables are performed using the package `Pandas`. The extention of it for geospatial analyses is called `GeoPandas`. In this notebook you will learn how to perform spatial analyses on vector data using these two packages. "
   ]
  },
  {
   "cell_type": "markdown",
   "metadata": {},
   "source": [
    "The exercises are posed in such a way that you have to refer to the documentation of the packages to find out how the methods are used:\n",
    "\n",
    "&rarr; [Pandas API Reference](https://pandas.pydata.org/docs/reference/index.html)  \n",
    "&rarr; [GeoPandas API Reference](https://geopandas.org/reference.html)  \n",
    "&rarr; [GeoPandas User Guide](https://geopandas.org/)  "
   ]
  },
  {
   "cell_type": "markdown",
   "metadata": {},
   "source": [
    "### Additional Python packages\n",
    "For this assignment you will need to install the additional python package mplleaflet. \n",
    "\n",
    "`conda install mplleaflet`"
   ]
  },
  {
   "cell_type": "markdown",
   "metadata": {},
   "source": [
    "### Data set: Crowed-Sourced information on bike safety in Heidelberg\n",
    "Within this notebook we will analyse the data which was collected during the last mobile mapping event of the [disaster mappers HD](https://disastermappers.wordpress.com/). The task of the participants was to map and assess bike safety in Heidelberg. The results were published on [Mobile Mapping: “Nachhaltige Mobilität in Heidelberg”](https://redfrexx.github.io/mobilemapping_hd/). If you like, you can also add data by submitting it through this [Kobo survey](https://ee.kobotoolbox.org/x/ZZ1fUFa1).\n",
    "\n",
    "After two brief introuctions to Pandas and GeoPandas, we will analyze the following questions in regard to the data set:\n",
    "* Who participated in the mapping event?\n",
    "* How was bike safety perceived in Heidelberg?\n",
    "* Are there differences in the perceived bike safety between the districts of Heidelberg? \n",
    "* Are large streets perceived to be more dangerous than small ones? \n",
    "\n",
    "In the end you will perform your own analysis. "
   ]
  },
  {
   "cell_type": "markdown",
   "metadata": {},
   "source": [
    "## 1 Introduction to  `Pandas`"
   ]
  },
  {
   "cell_type": "markdown",
   "metadata": {},
   "source": [
    "The collected data on bike safety is contained in a `csv` file without explicit spatial information. Therefore, we will use pandas to read the data. \n",
    "\n",
    "&rarr; __Please go through the user guide [10 minutes to Pandas](https://pandas.pydata.org/pandas-docs/stable/user_guide/10min.html) for a more detailed introduction.__"
   ]
  },
  {
   "cell_type": "code",
   "execution_count": 1,
   "metadata": {},
   "outputs": [],
   "source": [
    "import pandas as pd"
   ]
  },
  {
   "cell_type": "code",
   "execution_count": 2,
   "metadata": {},
   "outputs": [],
   "source": [
    "bike_safety_file = \"./data/heidelberger_radwege_umfrage_2.csv\""
   ]
  },
  {
   "cell_type": "code",
   "execution_count": 3,
   "metadata": {},
   "outputs": [],
   "source": [
    "data = pd.read_csv(bike_safety_file)"
   ]
  },
  {
   "cell_type": "markdown",
   "metadata": {},
   "source": [
    "To see if the import worked correctly, you can display the first 5 rows of the data set using the `head()` method. "
   ]
  },
  {
   "cell_type": "code",
   "execution_count": 4,
   "metadata": {},
   "outputs": [
    {
     "data": {
      "text/html": [
       "<div>\n",
       "<style scoped>\n",
       "    .dataframe tbody tr th:only-of-type {\n",
       "        vertical-align: middle;\n",
       "    }\n",
       "\n",
       "    .dataframe tbody tr th {\n",
       "        vertical-align: top;\n",
       "    }\n",
       "\n",
       "    .dataframe thead th {\n",
       "        text-align: right;\n",
       "    }\n",
       "</style>\n",
       "<table border=\"1\" class=\"dataframe\">\n",
       "  <thead>\n",
       "    <tr style=\"text-align: right;\">\n",
       "      <th></th>\n",
       "      <th>deviceid</th>\n",
       "      <th>lat</th>\n",
       "      <th>lon</th>\n",
       "      <th>precision</th>\n",
       "      <th>Wie gut findest du den Radweg?</th>\n",
       "      <th>Wie gut findest du die technische Ausstattung der Radinfrastruktur?</th>\n",
       "      <th>Ausstattung</th>\n",
       "      <th>Bauliche oder markierte Trennung zu FußgängerInnen</th>\n",
       "      <th>Bauliche oder markierte Trennung von Autos</th>\n",
       "      <th>Bordsteinabsenkungen</th>\n",
       "      <th>...</th>\n",
       "      <th>Wie ist dein generelles Fahrgefühl hier?</th>\n",
       "      <th>Einflüsse:</th>\n",
       "      <th>Fahrfluss (z.B. grüner Pfeil für Radfahrende, Fahrradampel, ...)</th>\n",
       "      <th>Luftqualität</th>\n",
       "      <th>Lärmbelastung</th>\n",
       "      <th>Begrünung</th>\n",
       "      <th>Übersichtlichkeit</th>\n",
       "      <th>Beschattung</th>\n",
       "      <th>Gibt es zusätzliche Einflussfaktoren auf das Fahrgefühl?</th>\n",
       "      <th>submission_date</th>\n",
       "    </tr>\n",
       "  </thead>\n",
       "  <tbody>\n",
       "    <tr>\n",
       "      <th>0</th>\n",
       "      <td>3</td>\n",
       "      <td>49.431396</td>\n",
       "      <td>8.668345</td>\n",
       "      <td>14.995</td>\n",
       "      <td>gut</td>\n",
       "      <td>tendenziell eher  schlecht</td>\n",
       "      <td>-</td>\n",
       "      <td>gut</td>\n",
       "      <td>schlecht</td>\n",
       "      <td>-</td>\n",
       "      <td>...</td>\n",
       "      <td>gut</td>\n",
       "      <td>-</td>\n",
       "      <td>-</td>\n",
       "      <td>-</td>\n",
       "      <td>-</td>\n",
       "      <td>-</td>\n",
       "      <td>-</td>\n",
       "      <td>-</td>\n",
       "      <td>-</td>\n",
       "      <td>2020-05-22</td>\n",
       "    </tr>\n",
       "    <tr>\n",
       "      <th>1</th>\n",
       "      <td>2</td>\n",
       "      <td>49.378628</td>\n",
       "      <td>8.662513</td>\n",
       "      <td>0.000</td>\n",
       "      <td>tendenziell eher schlecht</td>\n",
       "      <td>tendenziell eher  schlecht</td>\n",
       "      <td>-</td>\n",
       "      <td>-</td>\n",
       "      <td>-</td>\n",
       "      <td>schlecht</td>\n",
       "      <td>...</td>\n",
       "      <td>sehr schlecht</td>\n",
       "      <td>-</td>\n",
       "      <td>-</td>\n",
       "      <td>-</td>\n",
       "      <td>schlecht</td>\n",
       "      <td>-</td>\n",
       "      <td>-</td>\n",
       "      <td>-</td>\n",
       "      <td>-</td>\n",
       "      <td>2020-05-22</td>\n",
       "    </tr>\n",
       "    <tr>\n",
       "      <th>2</th>\n",
       "      <td>4</td>\n",
       "      <td>49.393539</td>\n",
       "      <td>8.676201</td>\n",
       "      <td>0.000</td>\n",
       "      <td>schlecht</td>\n",
       "      <td>sehr schlecht</td>\n",
       "      <td>-</td>\n",
       "      <td>schlecht</td>\n",
       "      <td>schlecht</td>\n",
       "      <td>schlecht</td>\n",
       "      <td>...</td>\n",
       "      <td>schlecht</td>\n",
       "      <td>-</td>\n",
       "      <td>neutral</td>\n",
       "      <td>neutral</td>\n",
       "      <td>neutral</td>\n",
       "      <td>schlecht</td>\n",
       "      <td>-</td>\n",
       "      <td>neutral</td>\n",
       "      <td>-</td>\n",
       "      <td>2020-05-22</td>\n",
       "    </tr>\n",
       "    <tr>\n",
       "      <th>3</th>\n",
       "      <td>5</td>\n",
       "      <td>49.389133</td>\n",
       "      <td>8.683078</td>\n",
       "      <td>13.966</td>\n",
       "      <td>tendenziell eher schlecht</td>\n",
       "      <td>tendenziell eher gut</td>\n",
       "      <td>-</td>\n",
       "      <td>schlecht</td>\n",
       "      <td>gut</td>\n",
       "      <td>-</td>\n",
       "      <td>...</td>\n",
       "      <td>tendenziell eher gut</td>\n",
       "      <td>-</td>\n",
       "      <td>-</td>\n",
       "      <td>gut</td>\n",
       "      <td>gut</td>\n",
       "      <td>gut</td>\n",
       "      <td>schlecht</td>\n",
       "      <td>-</td>\n",
       "      <td>Unübersichtliche Kreuzung von fahrradwegen</td>\n",
       "      <td>2020-05-22</td>\n",
       "    </tr>\n",
       "    <tr>\n",
       "      <th>4</th>\n",
       "      <td>6</td>\n",
       "      <td>49.426220</td>\n",
       "      <td>8.683111</td>\n",
       "      <td>0.000</td>\n",
       "      <td>sehr schlecht</td>\n",
       "      <td>sehr schlecht</td>\n",
       "      <td>-</td>\n",
       "      <td>neutral</td>\n",
       "      <td>schlecht</td>\n",
       "      <td>neutral</td>\n",
       "      <td>...</td>\n",
       "      <td>sehr schlecht</td>\n",
       "      <td>-</td>\n",
       "      <td>schlecht</td>\n",
       "      <td>schlecht</td>\n",
       "      <td>schlecht</td>\n",
       "      <td>neutral</td>\n",
       "      <td>schlecht</td>\n",
       "      <td>neutral</td>\n",
       "      <td>Unsicherheit aufgrund schlechter Markierungen....</td>\n",
       "      <td>2020-05-22</td>\n",
       "    </tr>\n",
       "  </tbody>\n",
       "</table>\n",
       "<p>5 rows × 33 columns</p>\n",
       "</div>"
      ],
      "text/plain": [
       "   deviceid        lat       lon  precision Wie gut findest du den Radweg?  \\\n",
       "0         3  49.431396  8.668345     14.995                            gut   \n",
       "1         2  49.378628  8.662513      0.000      tendenziell eher schlecht   \n",
       "2         4  49.393539  8.676201      0.000                       schlecht   \n",
       "3         5  49.389133  8.683078     13.966      tendenziell eher schlecht   \n",
       "4         6  49.426220  8.683111      0.000                  sehr schlecht   \n",
       "\n",
       "  Wie gut findest du die technische Ausstattung der Radinfrastruktur?  \\\n",
       "0                         tendenziell eher  schlecht                    \n",
       "1                         tendenziell eher  schlecht                    \n",
       "2                                      sehr schlecht                    \n",
       "3                               tendenziell eher gut                    \n",
       "4                                      sehr schlecht                    \n",
       "\n",
       "  Ausstattung Bauliche oder markierte Trennung zu FußgängerInnen  \\\n",
       "0           -                                                gut   \n",
       "1           -                                                  -   \n",
       "2           -                                           schlecht   \n",
       "3           -                                           schlecht   \n",
       "4           -                                            neutral   \n",
       "\n",
       "  Bauliche oder markierte Trennung von Autos Bordsteinabsenkungen  ...  \\\n",
       "0                                   schlecht                    -  ...   \n",
       "1                                          -             schlecht  ...   \n",
       "2                                   schlecht             schlecht  ...   \n",
       "3                                        gut                    -  ...   \n",
       "4                                   schlecht              neutral  ...   \n",
       "\n",
       "  Wie ist dein generelles Fahrgefühl hier? Einflüsse:  \\\n",
       "0                                      gut          -   \n",
       "1                            sehr schlecht          -   \n",
       "2                                 schlecht          -   \n",
       "3                     tendenziell eher gut          -   \n",
       "4                            sehr schlecht          -   \n",
       "\n",
       "  Fahrfluss (z.B. grüner Pfeil für Radfahrende, Fahrradampel, ...)  \\\n",
       "0                                                  -                 \n",
       "1                                                  -                 \n",
       "2                                            neutral                 \n",
       "3                                                  -                 \n",
       "4                                           schlecht                 \n",
       "\n",
       "  Luftqualität Lärmbelastung Begrünung Übersichtlichkeit Beschattung  \\\n",
       "0            -             -         -                 -           -   \n",
       "1            -      schlecht         -                 -           -   \n",
       "2      neutral       neutral  schlecht                 -     neutral   \n",
       "3          gut           gut       gut          schlecht           -   \n",
       "4     schlecht      schlecht   neutral          schlecht     neutral   \n",
       "\n",
       "  Gibt es zusätzliche Einflussfaktoren auf das Fahrgefühl? submission_date  \n",
       "0                                                  -            2020-05-22  \n",
       "1                                                  -            2020-05-22  \n",
       "2                                                  -            2020-05-22  \n",
       "3         Unübersichtliche Kreuzung von fahrradwegen            2020-05-22  \n",
       "4  Unsicherheit aufgrund schlechter Markierungen....            2020-05-22  \n",
       "\n",
       "[5 rows x 33 columns]"
      ]
     },
     "execution_count": 4,
     "metadata": {},
     "output_type": "execute_result"
    }
   ],
   "source": [
    "data.head()"
   ]
  },
  {
   "cell_type": "markdown",
   "metadata": {},
   "source": [
    "In pandas, data is stored in `DataFrame` or `Series` objects. "
   ]
  },
  {
   "cell_type": "code",
   "execution_count": 5,
   "metadata": {},
   "outputs": [
    {
     "data": {
      "text/plain": [
       "pandas.core.frame.DataFrame"
      ]
     },
     "execution_count": 5,
     "metadata": {},
     "output_type": "execute_result"
    }
   ],
   "source": [
    "type(data)"
   ]
  },
  {
   "cell_type": "markdown",
   "metadata": {},
   "source": [
    "A series is basically a dataframe with just one column. So when we select the column \"lat\" of our dataframe we get a `Series`."
   ]
  },
  {
   "cell_type": "code",
   "execution_count": 6,
   "metadata": {
    "scrolled": true
   },
   "outputs": [
    {
     "data": {
      "text/plain": [
       "pandas.core.series.Series"
      ]
     },
     "execution_count": 6,
     "metadata": {},
     "output_type": "execute_result"
    }
   ],
   "source": [
    "type(data[\"lat\"])"
   ]
  },
  {
   "cell_type": "markdown",
   "metadata": {},
   "source": [
    "You can also create a new DataFrame from multiple Series or lists"
   ]
  },
  {
   "cell_type": "code",
   "execution_count": 7,
   "metadata": {},
   "outputs": [],
   "source": [
    "new_df = pd.DataFrame({\"lat\": data.lat, \"lon\": data.lon})"
   ]
  },
  {
   "cell_type": "markdown",
   "metadata": {},
   "source": [
    "### Pandas is based on NumPy.\n",
    "\n",
    "A Pandas DataFrame object can be thought of as a __NumPy array with labels for rows and columns__. "
   ]
  },
  {
   "cell_type": "code",
   "execution_count": 8,
   "metadata": {},
   "outputs": [
    {
     "data": {
      "text/plain": [
       "array([[3, 49.431396484375, 8.66834545135498, ..., '-', '-',\n",
       "        '2020-05-22'],\n",
       "       [2, 49.37862777709961, 8.66251277923584, ..., '-', '-',\n",
       "        '2020-05-22'],\n",
       "       [4, 49.39353942871094, 8.676200866699219, ..., 'neutral', '-',\n",
       "        '2020-05-22'],\n",
       "       ...,\n",
       "       [15, 49.407691955566406, 8.694391250610352, ..., 'neutral', '-',\n",
       "        '2020-05-26'],\n",
       "       [16, 49.3948860168457, 8.689634323120117, ..., 'neutral', '-',\n",
       "        '2020-05-26'],\n",
       "       [17, 49.38019561767578, 8.692331314086914, ..., '-', '-',\n",
       "        '2020-05-27']], dtype=object)"
      ]
     },
     "execution_count": 8,
     "metadata": {},
     "output_type": "execute_result"
    }
   ],
   "source": [
    "data.to_numpy()"
   ]
  },
  {
   "cell_type": "code",
   "execution_count": 9,
   "metadata": {
    "scrolled": true
   },
   "outputs": [
    {
     "data": {
      "text/plain": [
       "Index(['deviceid', 'lat', 'lon', 'precision', 'Wie gut findest du den Radweg?',\n",
       "       'Wie gut findest du die technische Ausstattung der Radinfrastruktur?',\n",
       "       'Ausstattung', 'Bauliche oder markierte Trennung zu FußgängerInnen',\n",
       "       'Bauliche oder markierte Trennung von Autos', 'Bordsteinabsenkungen',\n",
       "       'Beleuchtung', 'Radwegbelag', 'Radwegmarkierung', 'Radwegbreite',\n",
       "       'Rote Markierung an Kreuzungen',\n",
       "       'Gibt es eine zusätzliche technische Ausstattung?',\n",
       "       'Wie ist dein generelles Sicherheitsgefühl hier?', 'Gefahren:',\n",
       "       'Sichtbarkeit für AutofahrerInnen', 'Abstand zu Autos',\n",
       "       'Abstand zu FußgängerInnen', 'Angemessene Geschwindigkeit der Autos',\n",
       "       'Gibt es eine zusätzliche Gefahrenquelle? ',\n",
       "       'Wie ist dein generelles Fahrgefühl hier?', 'Einflüsse:',\n",
       "       'Fahrfluss (z.B. grüner Pfeil für Radfahrende, Fahrradampel, ...)',\n",
       "       'Luftqualität', 'Lärmbelastung', 'Begrünung', 'Übersichtlichkeit',\n",
       "       'Beschattung',\n",
       "       'Gibt es zusätzliche Einflussfaktoren auf das Fahrgefühl?',\n",
       "       'submission_date'],\n",
       "      dtype='object')"
      ]
     },
     "execution_count": 9,
     "metadata": {},
     "output_type": "execute_result"
    }
   ],
   "source": [
    "data.columns"
   ]
  },
  {
   "cell_type": "markdown",
   "metadata": {},
   "source": [
    "The `index` method return the row names. "
   ]
  },
  {
   "cell_type": "code",
   "execution_count": 10,
   "metadata": {},
   "outputs": [
    {
     "data": {
      "text/plain": [
       "RangeIndex(start=0, stop=174, step=1)"
      ]
     },
     "execution_count": 10,
     "metadata": {},
     "output_type": "execute_result"
    }
   ],
   "source": [
    "data.index"
   ]
  },
  {
   "cell_type": "markdown",
   "metadata": {},
   "source": [
    "Since it is based on numpy, it shares some methods with it, e.g. the `shape`."
   ]
  },
  {
   "cell_type": "code",
   "execution_count": 11,
   "metadata": {},
   "outputs": [
    {
     "data": {
      "text/plain": [
       "(174, 33)"
      ]
     },
     "execution_count": 11,
     "metadata": {},
     "output_type": "execute_result"
    }
   ],
   "source": [
    "data.shape"
   ]
  },
  {
   "cell_type": "markdown",
   "metadata": {},
   "source": [
    "However, in contrast to a regular NumPy array, a DataFrame can hold different data types. \n"
   ]
  },
  {
   "cell_type": "code",
   "execution_count": 12,
   "metadata": {
    "scrolled": true
   },
   "outputs": [
    {
     "data": {
      "text/plain": [
       "deviceid                                                                 int64\n",
       "lat                                                                    float64\n",
       "lon                                                                    float64\n",
       "precision                                                              float64\n",
       "Wie gut findest du den Radweg?                                          object\n",
       "Wie gut findest du die technische Ausstattung der Radinfrastruktur?     object\n",
       "Ausstattung                                                             object\n",
       "Bauliche oder markierte Trennung zu FußgängerInnen                      object\n",
       "Bauliche oder markierte Trennung von Autos                              object\n",
       "Bordsteinabsenkungen                                                    object\n",
       "Beleuchtung                                                             object\n",
       "Radwegbelag                                                             object\n",
       "Radwegmarkierung                                                        object\n",
       "Radwegbreite                                                            object\n",
       "Rote Markierung an Kreuzungen                                           object\n",
       "Gibt es eine zusätzliche technische Ausstattung?                        object\n",
       "Wie ist dein generelles Sicherheitsgefühl hier?                         object\n",
       "Gefahren:                                                               object\n",
       "Sichtbarkeit für AutofahrerInnen                                        object\n",
       "Abstand zu Autos                                                        object\n",
       "Abstand zu FußgängerInnen                                               object\n",
       "Angemessene Geschwindigkeit der Autos                                   object\n",
       "Gibt es eine zusätzliche Gefahrenquelle?                                object\n",
       "Wie ist dein generelles Fahrgefühl hier?                                object\n",
       "Einflüsse:                                                              object\n",
       "Fahrfluss (z.B. grüner Pfeil für Radfahrende, Fahrradampel, ...)        object\n",
       "Luftqualität                                                            object\n",
       "Lärmbelastung                                                           object\n",
       "Begrünung                                                               object\n",
       "Übersichtlichkeit                                                       object\n",
       "Beschattung                                                             object\n",
       "Gibt es zusätzliche Einflussfaktoren auf das Fahrgefühl?                object\n",
       "submission_date                                                         object\n",
       "dtype: object"
      ]
     },
     "execution_count": 12,
     "metadata": {},
     "output_type": "execute_result"
    }
   ],
   "source": [
    "data.dtypes"
   ]
  },
  {
   "cell_type": "markdown",
   "metadata": {},
   "source": [
    "You can change them using the `astype()` method. "
   ]
  },
  {
   "cell_type": "code",
   "execution_count": 13,
   "metadata": {},
   "outputs": [],
   "source": [
    "data = data.astype({'lat': 'float32', 'lon': 'float32', 'precision': 'float32'})"
   ]
  },
  {
   "cell_type": "markdown",
   "metadata": {},
   "source": [
    "Using the `index` and `columns` of a DataFrame object you can select subsets of the data."
   ]
  },
  {
   "cell_type": "markdown",
   "metadata": {},
   "source": [
    "### Slicing dataframes\n",
    "Slicing (i.e. selecting data) is done using the `.loc` method."
   ]
  },
  {
   "cell_type": "markdown",
   "metadata": {},
   "source": [
    "#### Slicing based on rows\n",
    "You can select rows by their name (i.e. the index). In our case the index is just a range of numbers. "
   ]
  },
  {
   "cell_type": "code",
   "execution_count": 14,
   "metadata": {},
   "outputs": [
    {
     "data": {
      "text/html": [
       "<div>\n",
       "<style scoped>\n",
       "    .dataframe tbody tr th:only-of-type {\n",
       "        vertical-align: middle;\n",
       "    }\n",
       "\n",
       "    .dataframe tbody tr th {\n",
       "        vertical-align: top;\n",
       "    }\n",
       "\n",
       "    .dataframe thead th {\n",
       "        text-align: right;\n",
       "    }\n",
       "</style>\n",
       "<table border=\"1\" class=\"dataframe\">\n",
       "  <thead>\n",
       "    <tr style=\"text-align: right;\">\n",
       "      <th></th>\n",
       "      <th>deviceid</th>\n",
       "      <th>lat</th>\n",
       "      <th>lon</th>\n",
       "      <th>precision</th>\n",
       "      <th>Wie gut findest du den Radweg?</th>\n",
       "      <th>Wie gut findest du die technische Ausstattung der Radinfrastruktur?</th>\n",
       "      <th>Ausstattung</th>\n",
       "      <th>Bauliche oder markierte Trennung zu FußgängerInnen</th>\n",
       "      <th>Bauliche oder markierte Trennung von Autos</th>\n",
       "      <th>Bordsteinabsenkungen</th>\n",
       "      <th>...</th>\n",
       "      <th>Wie ist dein generelles Fahrgefühl hier?</th>\n",
       "      <th>Einflüsse:</th>\n",
       "      <th>Fahrfluss (z.B. grüner Pfeil für Radfahrende, Fahrradampel, ...)</th>\n",
       "      <th>Luftqualität</th>\n",
       "      <th>Lärmbelastung</th>\n",
       "      <th>Begrünung</th>\n",
       "      <th>Übersichtlichkeit</th>\n",
       "      <th>Beschattung</th>\n",
       "      <th>Gibt es zusätzliche Einflussfaktoren auf das Fahrgefühl?</th>\n",
       "      <th>submission_date</th>\n",
       "    </tr>\n",
       "  </thead>\n",
       "  <tbody>\n",
       "    <tr>\n",
       "      <th>0</th>\n",
       "      <td>3</td>\n",
       "      <td>49.431396</td>\n",
       "      <td>8.668345</td>\n",
       "      <td>14.995</td>\n",
       "      <td>gut</td>\n",
       "      <td>tendenziell eher  schlecht</td>\n",
       "      <td>-</td>\n",
       "      <td>gut</td>\n",
       "      <td>schlecht</td>\n",
       "      <td>-</td>\n",
       "      <td>...</td>\n",
       "      <td>gut</td>\n",
       "      <td>-</td>\n",
       "      <td>-</td>\n",
       "      <td>-</td>\n",
       "      <td>-</td>\n",
       "      <td>-</td>\n",
       "      <td>-</td>\n",
       "      <td>-</td>\n",
       "      <td>-</td>\n",
       "      <td>2020-05-22</td>\n",
       "    </tr>\n",
       "    <tr>\n",
       "      <th>1</th>\n",
       "      <td>2</td>\n",
       "      <td>49.378628</td>\n",
       "      <td>8.662513</td>\n",
       "      <td>0.000</td>\n",
       "      <td>tendenziell eher schlecht</td>\n",
       "      <td>tendenziell eher  schlecht</td>\n",
       "      <td>-</td>\n",
       "      <td>-</td>\n",
       "      <td>-</td>\n",
       "      <td>schlecht</td>\n",
       "      <td>...</td>\n",
       "      <td>sehr schlecht</td>\n",
       "      <td>-</td>\n",
       "      <td>-</td>\n",
       "      <td>-</td>\n",
       "      <td>schlecht</td>\n",
       "      <td>-</td>\n",
       "      <td>-</td>\n",
       "      <td>-</td>\n",
       "      <td>-</td>\n",
       "      <td>2020-05-22</td>\n",
       "    </tr>\n",
       "    <tr>\n",
       "      <th>2</th>\n",
       "      <td>4</td>\n",
       "      <td>49.393539</td>\n",
       "      <td>8.676201</td>\n",
       "      <td>0.000</td>\n",
       "      <td>schlecht</td>\n",
       "      <td>sehr schlecht</td>\n",
       "      <td>-</td>\n",
       "      <td>schlecht</td>\n",
       "      <td>schlecht</td>\n",
       "      <td>schlecht</td>\n",
       "      <td>...</td>\n",
       "      <td>schlecht</td>\n",
       "      <td>-</td>\n",
       "      <td>neutral</td>\n",
       "      <td>neutral</td>\n",
       "      <td>neutral</td>\n",
       "      <td>schlecht</td>\n",
       "      <td>-</td>\n",
       "      <td>neutral</td>\n",
       "      <td>-</td>\n",
       "      <td>2020-05-22</td>\n",
       "    </tr>\n",
       "    <tr>\n",
       "      <th>3</th>\n",
       "      <td>5</td>\n",
       "      <td>49.389133</td>\n",
       "      <td>8.683078</td>\n",
       "      <td>13.966</td>\n",
       "      <td>tendenziell eher schlecht</td>\n",
       "      <td>tendenziell eher gut</td>\n",
       "      <td>-</td>\n",
       "      <td>schlecht</td>\n",
       "      <td>gut</td>\n",
       "      <td>-</td>\n",
       "      <td>...</td>\n",
       "      <td>tendenziell eher gut</td>\n",
       "      <td>-</td>\n",
       "      <td>-</td>\n",
       "      <td>gut</td>\n",
       "      <td>gut</td>\n",
       "      <td>gut</td>\n",
       "      <td>schlecht</td>\n",
       "      <td>-</td>\n",
       "      <td>Unübersichtliche Kreuzung von fahrradwegen</td>\n",
       "      <td>2020-05-22</td>\n",
       "    </tr>\n",
       "  </tbody>\n",
       "</table>\n",
       "<p>4 rows × 33 columns</p>\n",
       "</div>"
      ],
      "text/plain": [
       "   deviceid        lat       lon  precision Wie gut findest du den Radweg?  \\\n",
       "0         3  49.431396  8.668345     14.995                            gut   \n",
       "1         2  49.378628  8.662513      0.000      tendenziell eher schlecht   \n",
       "2         4  49.393539  8.676201      0.000                       schlecht   \n",
       "3         5  49.389133  8.683078     13.966      tendenziell eher schlecht   \n",
       "\n",
       "  Wie gut findest du die technische Ausstattung der Radinfrastruktur?  \\\n",
       "0                         tendenziell eher  schlecht                    \n",
       "1                         tendenziell eher  schlecht                    \n",
       "2                                      sehr schlecht                    \n",
       "3                               tendenziell eher gut                    \n",
       "\n",
       "  Ausstattung Bauliche oder markierte Trennung zu FußgängerInnen  \\\n",
       "0           -                                                gut   \n",
       "1           -                                                  -   \n",
       "2           -                                           schlecht   \n",
       "3           -                                           schlecht   \n",
       "\n",
       "  Bauliche oder markierte Trennung von Autos Bordsteinabsenkungen  ...  \\\n",
       "0                                   schlecht                    -  ...   \n",
       "1                                          -             schlecht  ...   \n",
       "2                                   schlecht             schlecht  ...   \n",
       "3                                        gut                    -  ...   \n",
       "\n",
       "  Wie ist dein generelles Fahrgefühl hier? Einflüsse:  \\\n",
       "0                                      gut          -   \n",
       "1                            sehr schlecht          -   \n",
       "2                                 schlecht          -   \n",
       "3                     tendenziell eher gut          -   \n",
       "\n",
       "  Fahrfluss (z.B. grüner Pfeil für Radfahrende, Fahrradampel, ...)  \\\n",
       "0                                                  -                 \n",
       "1                                                  -                 \n",
       "2                                            neutral                 \n",
       "3                                                  -                 \n",
       "\n",
       "  Luftqualität Lärmbelastung Begrünung Übersichtlichkeit Beschattung  \\\n",
       "0            -             -         -                 -           -   \n",
       "1            -      schlecht         -                 -           -   \n",
       "2      neutral       neutral  schlecht                 -     neutral   \n",
       "3          gut           gut       gut          schlecht           -   \n",
       "\n",
       "  Gibt es zusätzliche Einflussfaktoren auf das Fahrgefühl? submission_date  \n",
       "0                                                  -            2020-05-22  \n",
       "1                                                  -            2020-05-22  \n",
       "2                                                  -            2020-05-22  \n",
       "3         Unübersichtliche Kreuzung von fahrradwegen            2020-05-22  \n",
       "\n",
       "[4 rows x 33 columns]"
      ]
     },
     "execution_count": 14,
     "metadata": {},
     "output_type": "execute_result"
    }
   ],
   "source": [
    "data.loc[0:3] # You can also leave out the 0 to get the same result, as in numpy"
   ]
  },
  {
   "cell_type": "markdown",
   "metadata": {},
   "source": [
    "#### Slicing based on columns\n",
    "\n",
    "When you select columns, you also need to indicate the rows which you would like to select. `:` means that all rows or columns are selected."
   ]
  },
  {
   "cell_type": "code",
   "execution_count": 15,
   "metadata": {},
   "outputs": [
    {
     "data": {
      "text/html": [
       "<div>\n",
       "<style scoped>\n",
       "    .dataframe tbody tr th:only-of-type {\n",
       "        vertical-align: middle;\n",
       "    }\n",
       "\n",
       "    .dataframe tbody tr th {\n",
       "        vertical-align: top;\n",
       "    }\n",
       "\n",
       "    .dataframe thead th {\n",
       "        text-align: right;\n",
       "    }\n",
       "</style>\n",
       "<table border=\"1\" class=\"dataframe\">\n",
       "  <thead>\n",
       "    <tr style=\"text-align: right;\">\n",
       "      <th></th>\n",
       "      <th>lat</th>\n",
       "      <th>lon</th>\n",
       "    </tr>\n",
       "  </thead>\n",
       "  <tbody>\n",
       "    <tr>\n",
       "      <th>0</th>\n",
       "      <td>49.431396</td>\n",
       "      <td>8.668345</td>\n",
       "    </tr>\n",
       "    <tr>\n",
       "      <th>1</th>\n",
       "      <td>49.378628</td>\n",
       "      <td>8.662513</td>\n",
       "    </tr>\n",
       "    <tr>\n",
       "      <th>2</th>\n",
       "      <td>49.393539</td>\n",
       "      <td>8.676201</td>\n",
       "    </tr>\n",
       "    <tr>\n",
       "      <th>3</th>\n",
       "      <td>49.389133</td>\n",
       "      <td>8.683078</td>\n",
       "    </tr>\n",
       "    <tr>\n",
       "      <th>4</th>\n",
       "      <td>49.426220</td>\n",
       "      <td>8.683111</td>\n",
       "    </tr>\n",
       "    <tr>\n",
       "      <th>...</th>\n",
       "      <td>...</td>\n",
       "      <td>...</td>\n",
       "    </tr>\n",
       "    <tr>\n",
       "      <th>169</th>\n",
       "      <td>49.409451</td>\n",
       "      <td>8.702234</td>\n",
       "    </tr>\n",
       "    <tr>\n",
       "      <th>170</th>\n",
       "      <td>49.413391</td>\n",
       "      <td>8.705764</td>\n",
       "    </tr>\n",
       "    <tr>\n",
       "      <th>171</th>\n",
       "      <td>49.407692</td>\n",
       "      <td>8.694391</td>\n",
       "    </tr>\n",
       "    <tr>\n",
       "      <th>172</th>\n",
       "      <td>49.394886</td>\n",
       "      <td>8.689634</td>\n",
       "    </tr>\n",
       "    <tr>\n",
       "      <th>173</th>\n",
       "      <td>49.380196</td>\n",
       "      <td>8.692331</td>\n",
       "    </tr>\n",
       "  </tbody>\n",
       "</table>\n",
       "<p>174 rows × 2 columns</p>\n",
       "</div>"
      ],
      "text/plain": [
       "           lat       lon\n",
       "0    49.431396  8.668345\n",
       "1    49.378628  8.662513\n",
       "2    49.393539  8.676201\n",
       "3    49.389133  8.683078\n",
       "4    49.426220  8.683111\n",
       "..         ...       ...\n",
       "169  49.409451  8.702234\n",
       "170  49.413391  8.705764\n",
       "171  49.407692  8.694391\n",
       "172  49.394886  8.689634\n",
       "173  49.380196  8.692331\n",
       "\n",
       "[174 rows x 2 columns]"
      ]
     },
     "execution_count": 15,
     "metadata": {},
     "output_type": "execute_result"
    }
   ],
   "source": [
    "data.loc[:, [\"lat\", \"lon\"]] # You can also leave out the 0 to get the same result"
   ]
  },
  {
   "cell_type": "markdown",
   "metadata": {},
   "source": [
    "#### Selecting a single column\n",
    "You can select columns based on their labels. "
   ]
  },
  {
   "cell_type": "code",
   "execution_count": 16,
   "metadata": {
    "scrolled": true
   },
   "outputs": [
    {
     "data": {
      "text/plain": [
       "0      49.431396\n",
       "1      49.378628\n",
       "2      49.393539\n",
       "3      49.389133\n",
       "4      49.426220\n",
       "         ...    \n",
       "169    49.409451\n",
       "170    49.413391\n",
       "171    49.407692\n",
       "172    49.394886\n",
       "173    49.380196\n",
       "Name: lat, Length: 174, dtype: float32"
      ]
     },
     "execution_count": 16,
     "metadata": {},
     "output_type": "execute_result"
    }
   ],
   "source": [
    "data.lat # or data[\"lat\"]"
   ]
  },
  {
   "cell_type": "markdown",
   "metadata": {},
   "source": [
    "#### Selecting based on attribute value"
   ]
  },
  {
   "cell_type": "markdown",
   "metadata": {},
   "source": [
    "Selecting all points created by the contributor with the device id 1. "
   ]
  },
  {
   "cell_type": "code",
   "execution_count": 17,
   "metadata": {},
   "outputs": [
    {
     "data": {
      "text/html": [
       "<div>\n",
       "<style scoped>\n",
       "    .dataframe tbody tr th:only-of-type {\n",
       "        vertical-align: middle;\n",
       "    }\n",
       "\n",
       "    .dataframe tbody tr th {\n",
       "        vertical-align: top;\n",
       "    }\n",
       "\n",
       "    .dataframe thead th {\n",
       "        text-align: right;\n",
       "    }\n",
       "</style>\n",
       "<table border=\"1\" class=\"dataframe\">\n",
       "  <thead>\n",
       "    <tr style=\"text-align: right;\">\n",
       "      <th></th>\n",
       "      <th>deviceid</th>\n",
       "      <th>lat</th>\n",
       "      <th>lon</th>\n",
       "      <th>precision</th>\n",
       "      <th>Wie gut findest du den Radweg?</th>\n",
       "      <th>Wie gut findest du die technische Ausstattung der Radinfrastruktur?</th>\n",
       "      <th>Ausstattung</th>\n",
       "      <th>Bauliche oder markierte Trennung zu FußgängerInnen</th>\n",
       "      <th>Bauliche oder markierte Trennung von Autos</th>\n",
       "      <th>Bordsteinabsenkungen</th>\n",
       "      <th>...</th>\n",
       "      <th>Wie ist dein generelles Fahrgefühl hier?</th>\n",
       "      <th>Einflüsse:</th>\n",
       "      <th>Fahrfluss (z.B. grüner Pfeil für Radfahrende, Fahrradampel, ...)</th>\n",
       "      <th>Luftqualität</th>\n",
       "      <th>Lärmbelastung</th>\n",
       "      <th>Begrünung</th>\n",
       "      <th>Übersichtlichkeit</th>\n",
       "      <th>Beschattung</th>\n",
       "      <th>Gibt es zusätzliche Einflussfaktoren auf das Fahrgefühl?</th>\n",
       "      <th>submission_date</th>\n",
       "    </tr>\n",
       "  </thead>\n",
       "  <tbody>\n",
       "    <tr>\n",
       "      <th>16</th>\n",
       "      <td>1</td>\n",
       "      <td>49.380730</td>\n",
       "      <td>8.675289</td>\n",
       "      <td>9.982532</td>\n",
       "      <td>tendenziell eher gut</td>\n",
       "      <td>tendenziell eher gut</td>\n",
       "      <td>-</td>\n",
       "      <td>schlecht</td>\n",
       "      <td>schlecht</td>\n",
       "      <td>gut</td>\n",
       "      <td>...</td>\n",
       "      <td>tendenziell eher gut</td>\n",
       "      <td>-</td>\n",
       "      <td>neutral</td>\n",
       "      <td>neutral</td>\n",
       "      <td>neutral</td>\n",
       "      <td>neutral</td>\n",
       "      <td>schlecht</td>\n",
       "      <td>schlecht</td>\n",
       "      <td>-</td>\n",
       "      <td>2020-05-22</td>\n",
       "    </tr>\n",
       "    <tr>\n",
       "      <th>21</th>\n",
       "      <td>1</td>\n",
       "      <td>49.382458</td>\n",
       "      <td>8.675556</td>\n",
       "      <td>12.146921</td>\n",
       "      <td>schlecht</td>\n",
       "      <td>sehr schlecht</td>\n",
       "      <td>-</td>\n",
       "      <td>schlecht</td>\n",
       "      <td>schlecht</td>\n",
       "      <td>gut</td>\n",
       "      <td>...</td>\n",
       "      <td>schlecht</td>\n",
       "      <td>-</td>\n",
       "      <td>neutral</td>\n",
       "      <td>neutral</td>\n",
       "      <td>neutral</td>\n",
       "      <td>gut</td>\n",
       "      <td>schlecht</td>\n",
       "      <td>neutral</td>\n",
       "      <td>-</td>\n",
       "      <td>2020-05-22</td>\n",
       "    </tr>\n",
       "    <tr>\n",
       "      <th>30</th>\n",
       "      <td>1</td>\n",
       "      <td>49.385345</td>\n",
       "      <td>8.676005</td>\n",
       "      <td>10.806641</td>\n",
       "      <td>sehr gut</td>\n",
       "      <td>sehr gut</td>\n",
       "      <td>-</td>\n",
       "      <td>neutral</td>\n",
       "      <td>gut</td>\n",
       "      <td>gut</td>\n",
       "      <td>...</td>\n",
       "      <td>sehr gut</td>\n",
       "      <td>-</td>\n",
       "      <td>gut</td>\n",
       "      <td>gut</td>\n",
       "      <td>gut</td>\n",
       "      <td>gut</td>\n",
       "      <td>gut</td>\n",
       "      <td>gut</td>\n",
       "      <td>-</td>\n",
       "      <td>2020-05-22</td>\n",
       "    </tr>\n",
       "    <tr>\n",
       "      <th>47</th>\n",
       "      <td>1</td>\n",
       "      <td>49.389282</td>\n",
       "      <td>8.676892</td>\n",
       "      <td>14.260504</td>\n",
       "      <td>schlecht</td>\n",
       "      <td>schlecht</td>\n",
       "      <td>-</td>\n",
       "      <td>schlecht</td>\n",
       "      <td>schlecht</td>\n",
       "      <td>gut</td>\n",
       "      <td>...</td>\n",
       "      <td>tendenziell eher  schlecht</td>\n",
       "      <td>-</td>\n",
       "      <td>gut</td>\n",
       "      <td>gut</td>\n",
       "      <td>gut</td>\n",
       "      <td>gut</td>\n",
       "      <td>schlecht</td>\n",
       "      <td>gut</td>\n",
       "      <td>-</td>\n",
       "      <td>2020-05-22</td>\n",
       "    </tr>\n",
       "    <tr>\n",
       "      <th>72</th>\n",
       "      <td>1</td>\n",
       "      <td>49.393993</td>\n",
       "      <td>8.676526</td>\n",
       "      <td>16.376478</td>\n",
       "      <td>schlecht</td>\n",
       "      <td>schlecht</td>\n",
       "      <td>-</td>\n",
       "      <td>gut</td>\n",
       "      <td>schlecht</td>\n",
       "      <td>schlecht</td>\n",
       "      <td>...</td>\n",
       "      <td>tendenziell eher  schlecht</td>\n",
       "      <td>-</td>\n",
       "      <td>schlecht</td>\n",
       "      <td>schlecht</td>\n",
       "      <td>schlecht</td>\n",
       "      <td>schlecht</td>\n",
       "      <td>schlecht</td>\n",
       "      <td>schlecht</td>\n",
       "      <td>-</td>\n",
       "      <td>2020-05-22</td>\n",
       "    </tr>\n",
       "    <tr>\n",
       "      <th>74</th>\n",
       "      <td>1</td>\n",
       "      <td>49.396015</td>\n",
       "      <td>8.677700</td>\n",
       "      <td>37.099487</td>\n",
       "      <td>schlecht</td>\n",
       "      <td>schlecht</td>\n",
       "      <td>-</td>\n",
       "      <td>schlecht</td>\n",
       "      <td>gut</td>\n",
       "      <td>neutral</td>\n",
       "      <td>...</td>\n",
       "      <td>tendenziell eher  schlecht</td>\n",
       "      <td>-</td>\n",
       "      <td>-</td>\n",
       "      <td>-</td>\n",
       "      <td>-</td>\n",
       "      <td>-</td>\n",
       "      <td>-</td>\n",
       "      <td>-</td>\n",
       "      <td>-</td>\n",
       "      <td>2020-05-22</td>\n",
       "    </tr>\n",
       "    <tr>\n",
       "      <th>81</th>\n",
       "      <td>1</td>\n",
       "      <td>49.398140</td>\n",
       "      <td>8.679138</td>\n",
       "      <td>13.139303</td>\n",
       "      <td>tendenziell eher gut</td>\n",
       "      <td>tendenziell eher  schlecht</td>\n",
       "      <td>-</td>\n",
       "      <td>schlecht</td>\n",
       "      <td>gut</td>\n",
       "      <td>gut</td>\n",
       "      <td>...</td>\n",
       "      <td>tendenziell eher  schlecht</td>\n",
       "      <td>-</td>\n",
       "      <td>schlecht</td>\n",
       "      <td>-</td>\n",
       "      <td>-</td>\n",
       "      <td>-</td>\n",
       "      <td>schlecht</td>\n",
       "      <td>-</td>\n",
       "      <td>-</td>\n",
       "      <td>2020-05-22</td>\n",
       "    </tr>\n",
       "    <tr>\n",
       "      <th>90</th>\n",
       "      <td>1</td>\n",
       "      <td>49.400078</td>\n",
       "      <td>8.677968</td>\n",
       "      <td>13.749800</td>\n",
       "      <td>gut</td>\n",
       "      <td>gut</td>\n",
       "      <td>-</td>\n",
       "      <td>gut</td>\n",
       "      <td>gut</td>\n",
       "      <td>gut</td>\n",
       "      <td>...</td>\n",
       "      <td>tendenziell eher gut</td>\n",
       "      <td>-</td>\n",
       "      <td>schlecht</td>\n",
       "      <td>schlecht</td>\n",
       "      <td>schlecht</td>\n",
       "      <td>gut</td>\n",
       "      <td>neutral</td>\n",
       "      <td>schlecht</td>\n",
       "      <td>-</td>\n",
       "      <td>2020-05-22</td>\n",
       "    </tr>\n",
       "    <tr>\n",
       "      <th>96</th>\n",
       "      <td>1</td>\n",
       "      <td>49.402153</td>\n",
       "      <td>8.679928</td>\n",
       "      <td>15.801072</td>\n",
       "      <td>tendenziell eher gut</td>\n",
       "      <td>tendenziell eher gut</td>\n",
       "      <td>-</td>\n",
       "      <td>gut</td>\n",
       "      <td>neutral</td>\n",
       "      <td>gut</td>\n",
       "      <td>...</td>\n",
       "      <td>schlecht</td>\n",
       "      <td>-</td>\n",
       "      <td>schlecht</td>\n",
       "      <td>schlecht</td>\n",
       "      <td>schlecht</td>\n",
       "      <td>schlecht</td>\n",
       "      <td>schlecht</td>\n",
       "      <td>schlecht</td>\n",
       "      <td>-</td>\n",
       "      <td>2020-05-22</td>\n",
       "    </tr>\n",
       "    <tr>\n",
       "      <th>109</th>\n",
       "      <td>1</td>\n",
       "      <td>49.407730</td>\n",
       "      <td>8.676698</td>\n",
       "      <td>13.704102</td>\n",
       "      <td>gut</td>\n",
       "      <td>gut</td>\n",
       "      <td>-</td>\n",
       "      <td>gut</td>\n",
       "      <td>gut</td>\n",
       "      <td>gut</td>\n",
       "      <td>...</td>\n",
       "      <td>schlecht</td>\n",
       "      <td>-</td>\n",
       "      <td>schlecht</td>\n",
       "      <td>schlecht</td>\n",
       "      <td>schlecht</td>\n",
       "      <td>schlecht</td>\n",
       "      <td>neutral</td>\n",
       "      <td>neutral</td>\n",
       "      <td>-</td>\n",
       "      <td>2020-05-22</td>\n",
       "    </tr>\n",
       "    <tr>\n",
       "      <th>116</th>\n",
       "      <td>1</td>\n",
       "      <td>49.415562</td>\n",
       "      <td>8.676585</td>\n",
       "      <td>11.764628</td>\n",
       "      <td>tendenziell eher schlecht</td>\n",
       "      <td>tendenziell eher gut</td>\n",
       "      <td>-</td>\n",
       "      <td>gut</td>\n",
       "      <td>gut</td>\n",
       "      <td>gut</td>\n",
       "      <td>...</td>\n",
       "      <td>schlecht</td>\n",
       "      <td>-</td>\n",
       "      <td>schlecht</td>\n",
       "      <td>schlecht</td>\n",
       "      <td>schlecht</td>\n",
       "      <td>neutral</td>\n",
       "      <td>schlecht</td>\n",
       "      <td>gut</td>\n",
       "      <td>-</td>\n",
       "      <td>2020-05-22</td>\n",
       "    </tr>\n",
       "    <tr>\n",
       "      <th>129</th>\n",
       "      <td>1</td>\n",
       "      <td>49.408978</td>\n",
       "      <td>8.676551</td>\n",
       "      <td>15.350367</td>\n",
       "      <td>tendenziell eher schlecht</td>\n",
       "      <td>gut</td>\n",
       "      <td>-</td>\n",
       "      <td>schlecht</td>\n",
       "      <td>gut</td>\n",
       "      <td>gut</td>\n",
       "      <td>...</td>\n",
       "      <td>tendenziell eher  schlecht</td>\n",
       "      <td>-</td>\n",
       "      <td>schlecht</td>\n",
       "      <td>schlecht</td>\n",
       "      <td>schlecht</td>\n",
       "      <td>neutral</td>\n",
       "      <td>schlecht</td>\n",
       "      <td>neutral</td>\n",
       "      <td>-</td>\n",
       "      <td>2020-05-22</td>\n",
       "    </tr>\n",
       "    <tr>\n",
       "      <th>136</th>\n",
       "      <td>1</td>\n",
       "      <td>49.402725</td>\n",
       "      <td>8.678527</td>\n",
       "      <td>11.477230</td>\n",
       "      <td>schlecht</td>\n",
       "      <td>schlecht</td>\n",
       "      <td>-</td>\n",
       "      <td>schlecht</td>\n",
       "      <td>gut</td>\n",
       "      <td>neutral</td>\n",
       "      <td>...</td>\n",
       "      <td>tendenziell eher  schlecht</td>\n",
       "      <td>-</td>\n",
       "      <td>-</td>\n",
       "      <td>schlecht</td>\n",
       "      <td>schlecht</td>\n",
       "      <td>schlecht</td>\n",
       "      <td>schlecht</td>\n",
       "      <td>schlecht</td>\n",
       "      <td>-</td>\n",
       "      <td>2020-05-22</td>\n",
       "    </tr>\n",
       "    <tr>\n",
       "      <th>146</th>\n",
       "      <td>1</td>\n",
       "      <td>49.396816</td>\n",
       "      <td>8.674946</td>\n",
       "      <td>11.352899</td>\n",
       "      <td>sehr gut</td>\n",
       "      <td>sehr gut</td>\n",
       "      <td>-</td>\n",
       "      <td>-</td>\n",
       "      <td>-</td>\n",
       "      <td>-</td>\n",
       "      <td>...</td>\n",
       "      <td>sehr gut</td>\n",
       "      <td>-</td>\n",
       "      <td>gut</td>\n",
       "      <td>gut</td>\n",
       "      <td>gut</td>\n",
       "      <td>gut</td>\n",
       "      <td>gut</td>\n",
       "      <td>gut</td>\n",
       "      <td>-</td>\n",
       "      <td>2020-05-22</td>\n",
       "    </tr>\n",
       "    <tr>\n",
       "      <th>154</th>\n",
       "      <td>1</td>\n",
       "      <td>49.389740</td>\n",
       "      <td>8.679868</td>\n",
       "      <td>14.799480</td>\n",
       "      <td>sehr gut</td>\n",
       "      <td>sehr gut</td>\n",
       "      <td>-</td>\n",
       "      <td>-</td>\n",
       "      <td>-</td>\n",
       "      <td>-</td>\n",
       "      <td>...</td>\n",
       "      <td>sehr gut</td>\n",
       "      <td>-</td>\n",
       "      <td>gut</td>\n",
       "      <td>gut</td>\n",
       "      <td>gut</td>\n",
       "      <td>gut</td>\n",
       "      <td>gut</td>\n",
       "      <td>-</td>\n",
       "      <td>-</td>\n",
       "      <td>2020-05-22</td>\n",
       "    </tr>\n",
       "  </tbody>\n",
       "</table>\n",
       "<p>15 rows × 33 columns</p>\n",
       "</div>"
      ],
      "text/plain": [
       "     deviceid        lat       lon  precision Wie gut findest du den Radweg?  \\\n",
       "16          1  49.380730  8.675289   9.982532           tendenziell eher gut   \n",
       "21          1  49.382458  8.675556  12.146921                       schlecht   \n",
       "30          1  49.385345  8.676005  10.806641                       sehr gut   \n",
       "47          1  49.389282  8.676892  14.260504                       schlecht   \n",
       "72          1  49.393993  8.676526  16.376478                       schlecht   \n",
       "74          1  49.396015  8.677700  37.099487                       schlecht   \n",
       "81          1  49.398140  8.679138  13.139303           tendenziell eher gut   \n",
       "90          1  49.400078  8.677968  13.749800                            gut   \n",
       "96          1  49.402153  8.679928  15.801072           tendenziell eher gut   \n",
       "109         1  49.407730  8.676698  13.704102                            gut   \n",
       "116         1  49.415562  8.676585  11.764628      tendenziell eher schlecht   \n",
       "129         1  49.408978  8.676551  15.350367      tendenziell eher schlecht   \n",
       "136         1  49.402725  8.678527  11.477230                       schlecht   \n",
       "146         1  49.396816  8.674946  11.352899                       sehr gut   \n",
       "154         1  49.389740  8.679868  14.799480                       sehr gut   \n",
       "\n",
       "    Wie gut findest du die technische Ausstattung der Radinfrastruktur?  \\\n",
       "16                                tendenziell eher gut                    \n",
       "21                                       sehr schlecht                    \n",
       "30                                            sehr gut                    \n",
       "47                                            schlecht                    \n",
       "72                                            schlecht                    \n",
       "74                                            schlecht                    \n",
       "81                          tendenziell eher  schlecht                    \n",
       "90                                                 gut                    \n",
       "96                                tendenziell eher gut                    \n",
       "109                                                gut                    \n",
       "116                               tendenziell eher gut                    \n",
       "129                                                gut                    \n",
       "136                                           schlecht                    \n",
       "146                                           sehr gut                    \n",
       "154                                           sehr gut                    \n",
       "\n",
       "    Ausstattung Bauliche oder markierte Trennung zu FußgängerInnen  \\\n",
       "16            -                                           schlecht   \n",
       "21            -                                           schlecht   \n",
       "30            -                                            neutral   \n",
       "47            -                                           schlecht   \n",
       "72            -                                                gut   \n",
       "74            -                                           schlecht   \n",
       "81            -                                           schlecht   \n",
       "90            -                                                gut   \n",
       "96            -                                                gut   \n",
       "109           -                                                gut   \n",
       "116           -                                                gut   \n",
       "129           -                                           schlecht   \n",
       "136           -                                           schlecht   \n",
       "146           -                                                  -   \n",
       "154           -                                                  -   \n",
       "\n",
       "    Bauliche oder markierte Trennung von Autos Bordsteinabsenkungen  ...  \\\n",
       "16                                    schlecht                  gut  ...   \n",
       "21                                    schlecht                  gut  ...   \n",
       "30                                         gut                  gut  ...   \n",
       "47                                    schlecht                  gut  ...   \n",
       "72                                    schlecht             schlecht  ...   \n",
       "74                                         gut              neutral  ...   \n",
       "81                                         gut                  gut  ...   \n",
       "90                                         gut                  gut  ...   \n",
       "96                                     neutral                  gut  ...   \n",
       "109                                        gut                  gut  ...   \n",
       "116                                        gut                  gut  ...   \n",
       "129                                        gut                  gut  ...   \n",
       "136                                        gut              neutral  ...   \n",
       "146                                          -                    -  ...   \n",
       "154                                          -                    -  ...   \n",
       "\n",
       "    Wie ist dein generelles Fahrgefühl hier? Einflüsse:  \\\n",
       "16                      tendenziell eher gut          -   \n",
       "21                                  schlecht          -   \n",
       "30                                  sehr gut          -   \n",
       "47                tendenziell eher  schlecht          -   \n",
       "72                tendenziell eher  schlecht          -   \n",
       "74                tendenziell eher  schlecht          -   \n",
       "81                tendenziell eher  schlecht          -   \n",
       "90                      tendenziell eher gut          -   \n",
       "96                                  schlecht          -   \n",
       "109                                 schlecht          -   \n",
       "116                                 schlecht          -   \n",
       "129               tendenziell eher  schlecht          -   \n",
       "136               tendenziell eher  schlecht          -   \n",
       "146                                 sehr gut          -   \n",
       "154                                 sehr gut          -   \n",
       "\n",
       "    Fahrfluss (z.B. grüner Pfeil für Radfahrende, Fahrradampel, ...)  \\\n",
       "16                                             neutral                 \n",
       "21                                             neutral                 \n",
       "30                                                 gut                 \n",
       "47                                                 gut                 \n",
       "72                                            schlecht                 \n",
       "74                                                   -                 \n",
       "81                                            schlecht                 \n",
       "90                                            schlecht                 \n",
       "96                                            schlecht                 \n",
       "109                                           schlecht                 \n",
       "116                                           schlecht                 \n",
       "129                                           schlecht                 \n",
       "136                                                  -                 \n",
       "146                                                gut                 \n",
       "154                                                gut                 \n",
       "\n",
       "    Luftqualität Lärmbelastung Begrünung Übersichtlichkeit Beschattung  \\\n",
       "16       neutral       neutral   neutral          schlecht    schlecht   \n",
       "21       neutral       neutral       gut          schlecht     neutral   \n",
       "30           gut           gut       gut               gut         gut   \n",
       "47           gut           gut       gut          schlecht         gut   \n",
       "72      schlecht      schlecht  schlecht          schlecht    schlecht   \n",
       "74             -             -         -                 -           -   \n",
       "81             -             -         -          schlecht           -   \n",
       "90      schlecht      schlecht       gut           neutral    schlecht   \n",
       "96      schlecht      schlecht  schlecht          schlecht    schlecht   \n",
       "109     schlecht      schlecht  schlecht           neutral     neutral   \n",
       "116     schlecht      schlecht   neutral          schlecht         gut   \n",
       "129     schlecht      schlecht   neutral          schlecht     neutral   \n",
       "136     schlecht      schlecht  schlecht          schlecht    schlecht   \n",
       "146          gut           gut       gut               gut         gut   \n",
       "154          gut           gut       gut               gut           -   \n",
       "\n",
       "    Gibt es zusätzliche Einflussfaktoren auf das Fahrgefühl? submission_date  \n",
       "16                                                   -            2020-05-22  \n",
       "21                                                   -            2020-05-22  \n",
       "30                                                   -            2020-05-22  \n",
       "47                                                   -            2020-05-22  \n",
       "72                                                   -            2020-05-22  \n",
       "74                                                   -            2020-05-22  \n",
       "81                                                   -            2020-05-22  \n",
       "90                                                   -            2020-05-22  \n",
       "96                                                   -            2020-05-22  \n",
       "109                                                  -            2020-05-22  \n",
       "116                                                  -            2020-05-22  \n",
       "129                                                  -            2020-05-22  \n",
       "136                                                  -            2020-05-22  \n",
       "146                                                  -            2020-05-22  \n",
       "154                                                  -            2020-05-22  \n",
       "\n",
       "[15 rows x 33 columns]"
      ]
     },
     "execution_count": 17,
     "metadata": {},
     "output_type": "execute_result"
    }
   ],
   "source": [
    "data.loc[data[\"deviceid\"] == 1]"
   ]
  },
  {
   "cell_type": "markdown",
   "metadata": {},
   "source": [
    "There are many many more functions, methods worth exploring.\n",
    "\n",
    "&rarr; __Refer to the Pandas documentation on [Indexing and Slicing data](https://pandas.pydata.org/pandas-docs/stable/user_guide/indexing.html) for more details.__\n",
    "\n",
    "&rarr; It is also worth exploring the [Advanced Slicing and Indexing](https://pandas.pydata.org/pandas-docs/stable/user_guide/advanced.html)"
   ]
  },
  {
   "cell_type": "markdown",
   "metadata": {},
   "source": [
    "### Calculating statistics using NumPy's ufuncs "
   ]
  },
  {
   "cell_type": "markdown",
   "metadata": {},
   "source": [
    "Since Pandas dataFrames are based on NumPy arrays, they also support method for [descriptive statistics](https://pandas.pydata.org/pandas-docs/stable/user_guide/basics.html#descriptive-statistics)."
   ]
  },
  {
   "cell_type": "code",
   "execution_count": 18,
   "metadata": {},
   "outputs": [
    {
     "name": "stderr",
     "output_type": "stream",
     "text": [
      "C:\\ProgramData\\Anaconda3\\envs\\advgeo\\lib\\site-packages\\ipykernel_launcher.py:1: FutureWarning: Dropping of nuisance columns in DataFrame reductions (with 'numeric_only=None') is deprecated; in a future version this will raise TypeError.  Select only valid columns before calling the reduction.\n",
      "  \"\"\"Entry point for launching an IPython kernel.\n"
     ]
    },
    {
     "data": {
      "text/plain": [
       "deviceid      7.086207\n",
       "lat          49.412430\n",
       "lon           8.677152\n",
       "precision    30.731546\n",
       "dtype: float64"
      ]
     },
     "execution_count": 18,
     "metadata": {},
     "output_type": "execute_result"
    }
   ],
   "source": [
    "data.mean()"
   ]
  },
  {
   "cell_type": "markdown",
   "metadata": {},
   "source": [
    "__E 1.1:__ The above expression calculates the mean along the columns. How can you calculate the mean along the rows? (The result wouldn't make sense in this case, just for demonstration purposes)"
   ]
  },
  {
   "cell_type": "code",
   "execution_count": 19,
   "metadata": {},
   "outputs": [
    {
     "name": "stderr",
     "output_type": "stream",
     "text": [
      "C:\\ProgramData\\Anaconda3\\envs\\advgeo\\lib\\site-packages\\ipykernel_launcher.py:2: FutureWarning: Dropping of nuisance columns in DataFrame reductions (with 'numeric_only=None') is deprecated; in a future version this will raise TypeError.  Select only valid columns before calling the reduction.\n",
      "  \n"
     ]
    },
    {
     "data": {
      "text/plain": [
       "Series([], dtype: float64)"
      ]
     },
     "execution_count": 19,
     "metadata": {},
     "output_type": "execute_result"
    }
   ],
   "source": [
    "data_transposed = data.transpose(copy=True)\n",
    "data_transposed.mean()"
   ]
  },
  {
   "cell_type": "markdown",
   "metadata": {},
   "source": [
    "__E 1.2:__ How can you calculate the mean along a certain column, e.g. 'precision'? "
   ]
  },
  {
   "cell_type": "code",
   "execution_count": 20,
   "metadata": {},
   "outputs": [
    {
     "data": {
      "text/plain": [
       "30.73154640197754"
      ]
     },
     "execution_count": 20,
     "metadata": {},
     "output_type": "execute_result"
    }
   ],
   "source": [
    "data.precision.mean()"
   ]
  },
  {
   "cell_type": "markdown",
   "metadata": {},
   "source": [
    "__E 1.3:__ Get all unique entries of the colum `submission_date`. "
   ]
  },
  {
   "cell_type": "code",
   "execution_count": 21,
   "metadata": {},
   "outputs": [
    {
     "data": {
      "text/plain": [
       "array(['2020-05-22', '2020-05-26', '2020-05-27'], dtype=object)"
      ]
     },
     "execution_count": 21,
     "metadata": {},
     "output_type": "execute_result"
    }
   ],
   "source": [
    "data.submission_date.unique()"
   ]
  },
  {
   "cell_type": "markdown",
   "metadata": {},
   "source": [
    "## 2  Introduction to `GeoPandas`"
   ]
  },
  {
   "cell_type": "markdown",
   "metadata": {},
   "source": [
    "If we want to perform spatial operations and display the data on a map, we need to convert the pandas DataFrame into a GeoDataFrame. \n",
    "\n",
    "GeoPandas is basically an extention of the Pandas package by adding a geometry column to the data frame and enabling spatial operations on the whole layer. For this GeoPandas relies on shapely. By the way, for reading data it relies on fiona.  \n",
    "\n",
    "&rarr; Refer to the [GeoPandas User Guide](https://geopandas.org/) for more details. "
   ]
  },
  {
   "cell_type": "markdown",
   "metadata": {},
   "source": [
    "### Adding a geometry column \n",
    "Geopandas expects the spatial information of a row in the column called 'geometry'. Therefore, we will create a new column called `geometry` and fill each cell with a new `shapely.Point()` object which is created from the longitude (lat) and latitute (lat) values of the respective row."
   ]
  },
  {
   "cell_type": "code",
   "execution_count": 22,
   "metadata": {},
   "outputs": [],
   "source": [
    "from shapely.geometry import Point"
   ]
  },
  {
   "cell_type": "code",
   "execution_count": 23,
   "metadata": {},
   "outputs": [],
   "source": [
    "data[\"geometry\"] = data.apply(lambda x: Point(x[\"lon\"], x[\"lat\"]), axis=1)"
   ]
  },
  {
   "cell_type": "markdown",
   "metadata": {},
   "source": [
    "### Converting it to a `GeoDataFrame`"
   ]
  },
  {
   "cell_type": "code",
   "execution_count": 24,
   "metadata": {},
   "outputs": [],
   "source": [
    "import geopandas as gpd"
   ]
  },
  {
   "cell_type": "markdown",
   "metadata": {},
   "source": [
    "The GeoDataFrame needs a crs attributes which specifies the crs the geometery is given in. "
   ]
  },
  {
   "cell_type": "code",
   "execution_count": 25,
   "metadata": {},
   "outputs": [
    {
     "name": "stderr",
     "output_type": "stream",
     "text": [
      "C:\\ProgramData\\Anaconda3\\envs\\advgeo\\lib\\site-packages\\pyproj\\crs\\crs.py:53: FutureWarning: '+init=<authority>:<code>' syntax is deprecated. '<authority>:<code>' is the preferred initialization method. When making the change, be mindful of axis order changes: https://pyproj4.github.io/pyproj/stable/gotchas.html#axis-order-changes-in-proj-6\n",
      "  return _prepare_from_string(\" \".join(pjargs))\n"
     ]
    },
    {
     "data": {
      "text/plain": [
       "geopandas.geodataframe.GeoDataFrame"
      ]
     },
     "execution_count": 25,
     "metadata": {},
     "output_type": "execute_result"
    }
   ],
   "source": [
    "data = gpd.GeoDataFrame(data)\n",
    "data.crs = {\"init\": \"epsg:4326\"}\n",
    "type(data)"
   ]
  },
  {
   "cell_type": "markdown",
   "metadata": {},
   "source": [
    "### Creating a map\n",
    "We can also plot the data with geopandas, but we need to enable matplotlib within jupyter using the magic command `%matplotlib inline`."
   ]
  },
  {
   "cell_type": "markdown",
   "metadata": {},
   "source": [
    "For plotting maps we need matplotlib. Using the `figsize()` function you  can adjust the figure size within the notebook. "
   ]
  },
  {
   "cell_type": "code",
   "execution_count": 26,
   "metadata": {},
   "outputs": [],
   "source": [
    "import matplotlib as mpl\n",
    "from IPython.core.pylabtools import figsize # adjusts the figure size in notebook \n",
    "%matplotlib inline"
   ]
  },
  {
   "cell_type": "code",
   "execution_count": 27,
   "metadata": {},
   "outputs": [
    {
     "data": {
      "image/png": "[encoded data removed]",
      "text/plain": [
       "<Figure size 432x288 with 1 Axes>"
      ]
     },
     "metadata": {
      "needs_background": "light"
     },
     "output_type": "display_data"
    },
    {
     "data": {
      "image/png": "[encoded data removed]",
      "text/plain": [
       "<Figure size 432x288 with 1 Axes>"
      ]
     },
     "metadata": {
      "needs_background": "light"
     },
     "output_type": "display_data"
    }
   ],
   "source": [
    "data.plot()\n",
    "ax = data.plot()"
   ]
  },
  {
   "cell_type": "markdown",
   "metadata": {},
   "source": [
    "A little context would be helpful. Let's add a basemap using `mplleaflet`."
   ]
  },
  {
   "cell_type": "code",
   "execution_count": 28,
   "metadata": {
    "scrolled": true
   },
   "outputs": [],
   "source": [
    "import mplleaflet"
   ]
  },
  {
   "cell_type": "code",
   "execution_count": 29,
   "metadata": {},
   "outputs": [
    {
     "ename": "AttributeError",
     "evalue": "'XAxis' object has no attribute '_gridOnMajor'",
     "output_type": "error",
     "traceback": [
      "\u001b[1;31m---------------------------------------------------------------------------\u001b[0m",
      "\u001b[1;31mAttributeError\u001b[0m                            Traceback (most recent call last)",
      "\u001b[1;32m<ipython-input-29-d4d95aaaeeee>\u001b[0m in \u001b[0;36m<module>\u001b[1;34m\u001b[0m\n\u001b[0;32m      1\u001b[0m \u001b[0mfigsize\u001b[0m\u001b[1;33m(\u001b[0m\u001b[1;36m10\u001b[0m\u001b[1;33m,\u001b[0m \u001b[1;36m10\u001b[0m\u001b[1;33m)\u001b[0m\u001b[1;33m\u001b[0m\u001b[1;33m\u001b[0m\u001b[0m\n\u001b[0;32m      2\u001b[0m \u001b[0mdata\u001b[0m\u001b[1;33m.\u001b[0m\u001b[0mplot\u001b[0m\u001b[1;33m(\u001b[0m\u001b[1;33m)\u001b[0m\u001b[1;33m\u001b[0m\u001b[1;33m\u001b[0m\u001b[0m\n\u001b[1;32m----> 3\u001b[1;33m \u001b[0mmplleaflet\u001b[0m\u001b[1;33m.\u001b[0m\u001b[0mdisplay\u001b[0m\u001b[1;33m(\u001b[0m\u001b[1;33m)\u001b[0m\u001b[1;33m\u001b[0m\u001b[1;33m\u001b[0m\u001b[0m\n\u001b[0m\u001b[0;32m      4\u001b[0m \u001b[1;31m#mplleaflet.display(fig=ax.figure, crs=data.crs)\u001b[0m\u001b[1;33m\u001b[0m\u001b[1;33m\u001b[0m\u001b[1;33m\u001b[0m\u001b[0m\n",
      "\u001b[1;32mC:\\ProgramData\\Anaconda3\\envs\\advgeo\\lib\\site-packages\\mplleaflet\\_display.py\u001b[0m in \u001b[0;36mdisplay\u001b[1;34m(fig, closefig, **kwargs)\u001b[0m\n\u001b[0;32m    151\u001b[0m         \u001b[0mplt\u001b[0m\u001b[1;33m.\u001b[0m\u001b[0mclose\u001b[0m\u001b[1;33m(\u001b[0m\u001b[0mfig\u001b[0m\u001b[1;33m)\u001b[0m\u001b[1;33m\u001b[0m\u001b[1;33m\u001b[0m\u001b[0m\n\u001b[0;32m    152\u001b[0m \u001b[1;33m\u001b[0m\u001b[0m\n\u001b[1;32m--> 153\u001b[1;33m     \u001b[0mhtml\u001b[0m \u001b[1;33m=\u001b[0m \u001b[0mfig_to_html\u001b[0m\u001b[1;33m(\u001b[0m\u001b[0mfig\u001b[0m\u001b[1;33m,\u001b[0m \u001b[1;33m**\u001b[0m\u001b[0mkwargs\u001b[0m\u001b[1;33m)\u001b[0m\u001b[1;33m\u001b[0m\u001b[1;33m\u001b[0m\u001b[0m\n\u001b[0m\u001b[0;32m    154\u001b[0m \u001b[1;33m\u001b[0m\u001b[0m\n\u001b[0;32m    155\u001b[0m     \u001b[1;31m# We embed everything in an iframe.\u001b[0m\u001b[1;33m\u001b[0m\u001b[1;33m\u001b[0m\u001b[1;33m\u001b[0m\u001b[0m\n",
      "\u001b[1;32mC:\\ProgramData\\Anaconda3\\envs\\advgeo\\lib\\site-packages\\mplleaflet\\_display.py\u001b[0m in \u001b[0;36mfig_to_html\u001b[1;34m(fig, template, tiles, crs, epsg, embed_links)\u001b[0m\n\u001b[0;32m     82\u001b[0m     \u001b[0mrenderer\u001b[0m \u001b[1;33m=\u001b[0m \u001b[0mLeafletRenderer\u001b[0m\u001b[1;33m(\u001b[0m\u001b[0mcrs\u001b[0m\u001b[1;33m=\u001b[0m\u001b[0mcrs\u001b[0m\u001b[1;33m,\u001b[0m \u001b[0mepsg\u001b[0m\u001b[1;33m=\u001b[0m\u001b[0mepsg\u001b[0m\u001b[1;33m)\u001b[0m\u001b[1;33m\u001b[0m\u001b[1;33m\u001b[0m\u001b[0m\n\u001b[0;32m     83\u001b[0m     \u001b[0mexporter\u001b[0m \u001b[1;33m=\u001b[0m \u001b[0mExporter\u001b[0m\u001b[1;33m(\u001b[0m\u001b[0mrenderer\u001b[0m\u001b[1;33m)\u001b[0m\u001b[1;33m\u001b[0m\u001b[1;33m\u001b[0m\u001b[0m\n\u001b[1;32m---> 84\u001b[1;33m     \u001b[0mexporter\u001b[0m\u001b[1;33m.\u001b[0m\u001b[0mrun\u001b[0m\u001b[1;33m(\u001b[0m\u001b[0mfig\u001b[0m\u001b[1;33m)\u001b[0m\u001b[1;33m\u001b[0m\u001b[1;33m\u001b[0m\u001b[0m\n\u001b[0m\u001b[0;32m     85\u001b[0m \u001b[1;33m\u001b[0m\u001b[0m\n\u001b[0;32m     86\u001b[0m     \u001b[0mattribution\u001b[0m \u001b[1;33m=\u001b[0m \u001b[0m_attribution\u001b[0m \u001b[1;33m+\u001b[0m \u001b[1;34m' | '\u001b[0m \u001b[1;33m+\u001b[0m \u001b[0mtiles\u001b[0m\u001b[1;33m[\u001b[0m\u001b[1;36m1\u001b[0m\u001b[1;33m]\u001b[0m\u001b[1;33m\u001b[0m\u001b[1;33m\u001b[0m\u001b[0m\n",
      "\u001b[1;32mC:\\ProgramData\\Anaconda3\\envs\\advgeo\\lib\\site-packages\\mplleaflet\\mplexporter\\exporter.py\u001b[0m in \u001b[0;36mrun\u001b[1;34m(self, fig)\u001b[0m\n\u001b[0;32m     49\u001b[0m             \u001b[1;32mimport\u001b[0m \u001b[0mmatplotlib\u001b[0m\u001b[1;33m.\u001b[0m\u001b[0mpyplot\u001b[0m \u001b[1;32mas\u001b[0m \u001b[0mplt\u001b[0m\u001b[1;33m\u001b[0m\u001b[1;33m\u001b[0m\u001b[0m\n\u001b[0;32m     50\u001b[0m             \u001b[0mplt\u001b[0m\u001b[1;33m.\u001b[0m\u001b[0mclose\u001b[0m\u001b[1;33m(\u001b[0m\u001b[0mfig\u001b[0m\u001b[1;33m)\u001b[0m\u001b[1;33m\u001b[0m\u001b[1;33m\u001b[0m\u001b[0m\n\u001b[1;32m---> 51\u001b[1;33m         \u001b[0mself\u001b[0m\u001b[1;33m.\u001b[0m\u001b[0mcrawl_fig\u001b[0m\u001b[1;33m(\u001b[0m\u001b[0mfig\u001b[0m\u001b[1;33m)\u001b[0m\u001b[1;33m\u001b[0m\u001b[1;33m\u001b[0m\u001b[0m\n\u001b[0m\u001b[0;32m     52\u001b[0m \u001b[1;33m\u001b[0m\u001b[0m\n\u001b[0;32m     53\u001b[0m     \u001b[1;33m@\u001b[0m\u001b[0mstaticmethod\u001b[0m\u001b[1;33m\u001b[0m\u001b[1;33m\u001b[0m\u001b[0m\n",
      "\u001b[1;32mC:\\ProgramData\\Anaconda3\\envs\\advgeo\\lib\\site-packages\\mplleaflet\\mplexporter\\exporter.py\u001b[0m in \u001b[0;36mcrawl_fig\u001b[1;34m(self, fig)\u001b[0m\n\u001b[0;32m    116\u001b[0m                                        props=utils.get_figure_properties(fig)):\n\u001b[0;32m    117\u001b[0m             \u001b[1;32mfor\u001b[0m \u001b[0max\u001b[0m \u001b[1;32min\u001b[0m \u001b[0mfig\u001b[0m\u001b[1;33m.\u001b[0m\u001b[0maxes\u001b[0m\u001b[1;33m:\u001b[0m\u001b[1;33m\u001b[0m\u001b[1;33m\u001b[0m\u001b[0m\n\u001b[1;32m--> 118\u001b[1;33m                 \u001b[0mself\u001b[0m\u001b[1;33m.\u001b[0m\u001b[0mcrawl_ax\u001b[0m\u001b[1;33m(\u001b[0m\u001b[0max\u001b[0m\u001b[1;33m)\u001b[0m\u001b[1;33m\u001b[0m\u001b[1;33m\u001b[0m\u001b[0m\n\u001b[0m\u001b[0;32m    119\u001b[0m \u001b[1;33m\u001b[0m\u001b[0m\n\u001b[0;32m    120\u001b[0m     \u001b[1;32mdef\u001b[0m \u001b[0mcrawl_ax\u001b[0m\u001b[1;33m(\u001b[0m\u001b[0mself\u001b[0m\u001b[1;33m,\u001b[0m \u001b[0max\u001b[0m\u001b[1;33m)\u001b[0m\u001b[1;33m:\u001b[0m\u001b[1;33m\u001b[0m\u001b[1;33m\u001b[0m\u001b[0m\n",
      "\u001b[1;32mC:\\ProgramData\\Anaconda3\\envs\\advgeo\\lib\\site-packages\\mplleaflet\\mplexporter\\exporter.py\u001b[0m in \u001b[0;36mcrawl_ax\u001b[1;34m(self, ax)\u001b[0m\n\u001b[0;32m    121\u001b[0m         \u001b[1;34m\"\"\"Crawl the axes and process all elements within\"\"\"\u001b[0m\u001b[1;33m\u001b[0m\u001b[1;33m\u001b[0m\u001b[0m\n\u001b[0;32m    122\u001b[0m         with self.renderer.draw_axes(ax=ax,\n\u001b[1;32m--> 123\u001b[1;33m                                      props=utils.get_axes_properties(ax)):\n\u001b[0m\u001b[0;32m    124\u001b[0m             \u001b[1;32mfor\u001b[0m \u001b[0mline\u001b[0m \u001b[1;32min\u001b[0m \u001b[0max\u001b[0m\u001b[1;33m.\u001b[0m\u001b[0mlines\u001b[0m\u001b[1;33m:\u001b[0m\u001b[1;33m\u001b[0m\u001b[1;33m\u001b[0m\u001b[0m\n\u001b[0;32m    125\u001b[0m                 \u001b[0mself\u001b[0m\u001b[1;33m.\u001b[0m\u001b[0mdraw_line\u001b[0m\u001b[1;33m(\u001b[0m\u001b[0max\u001b[0m\u001b[1;33m,\u001b[0m \u001b[0mline\u001b[0m\u001b[1;33m)\u001b[0m\u001b[1;33m\u001b[0m\u001b[1;33m\u001b[0m\u001b[0m\n",
      "\u001b[1;32mC:\\ProgramData\\Anaconda3\\envs\\advgeo\\lib\\site-packages\\mplleaflet\\mplexporter\\utils.py\u001b[0m in \u001b[0;36mget_axes_properties\u001b[1;34m(ax)\u001b[0m\n\u001b[0;32m    265\u001b[0m              \u001b[1;34m'frame_on'\u001b[0m\u001b[1;33m:\u001b[0m \u001b[0max\u001b[0m\u001b[1;33m.\u001b[0m\u001b[0mget_frame_on\u001b[0m\u001b[1;33m(\u001b[0m\u001b[1;33m)\u001b[0m\u001b[1;33m,\u001b[0m\u001b[1;33m\u001b[0m\u001b[1;33m\u001b[0m\u001b[0m\n\u001b[0;32m    266\u001b[0m              \u001b[1;34m'patch_visible'\u001b[0m\u001b[1;33m:\u001b[0m\u001b[0max\u001b[0m\u001b[1;33m.\u001b[0m\u001b[0mpatch\u001b[0m\u001b[1;33m.\u001b[0m\u001b[0mget_visible\u001b[0m\u001b[1;33m(\u001b[0m\u001b[1;33m)\u001b[0m\u001b[1;33m,\u001b[0m\u001b[1;33m\u001b[0m\u001b[1;33m\u001b[0m\u001b[0m\n\u001b[1;32m--> 267\u001b[1;33m              'axes': [get_axis_properties(ax.xaxis),\n\u001b[0m\u001b[0;32m    268\u001b[0m                       get_axis_properties(ax.yaxis)]}\n\u001b[0;32m    269\u001b[0m \u001b[1;33m\u001b[0m\u001b[0m\n",
      "\u001b[1;32mC:\\ProgramData\\Anaconda3\\envs\\advgeo\\lib\\site-packages\\mplleaflet\\mplexporter\\utils.py\u001b[0m in \u001b[0;36mget_axis_properties\u001b[1;34m(axis)\u001b[0m\n\u001b[0;32m    229\u001b[0m \u001b[1;33m\u001b[0m\u001b[0m\n\u001b[0;32m    230\u001b[0m     \u001b[1;31m# Get associated grid\u001b[0m\u001b[1;33m\u001b[0m\u001b[1;33m\u001b[0m\u001b[1;33m\u001b[0m\u001b[0m\n\u001b[1;32m--> 231\u001b[1;33m     \u001b[0mprops\u001b[0m\u001b[1;33m[\u001b[0m\u001b[1;34m'grid'\u001b[0m\u001b[1;33m]\u001b[0m \u001b[1;33m=\u001b[0m \u001b[0mget_grid_style\u001b[0m\u001b[1;33m(\u001b[0m\u001b[0maxis\u001b[0m\u001b[1;33m)\u001b[0m\u001b[1;33m\u001b[0m\u001b[1;33m\u001b[0m\u001b[0m\n\u001b[0m\u001b[0;32m    232\u001b[0m \u001b[1;33m\u001b[0m\u001b[0m\n\u001b[0;32m    233\u001b[0m     \u001b[1;31m# get axis visibility\u001b[0m\u001b[1;33m\u001b[0m\u001b[1;33m\u001b[0m\u001b[1;33m\u001b[0m\u001b[0m\n",
      "\u001b[1;32mC:\\ProgramData\\Anaconda3\\envs\\advgeo\\lib\\site-packages\\mplleaflet\\mplexporter\\utils.py\u001b[0m in \u001b[0;36mget_grid_style\u001b[1;34m(axis)\u001b[0m\n\u001b[0;32m    239\u001b[0m \u001b[1;32mdef\u001b[0m \u001b[0mget_grid_style\u001b[0m\u001b[1;33m(\u001b[0m\u001b[0maxis\u001b[0m\u001b[1;33m)\u001b[0m\u001b[1;33m:\u001b[0m\u001b[1;33m\u001b[0m\u001b[1;33m\u001b[0m\u001b[0m\n\u001b[0;32m    240\u001b[0m     \u001b[0mgridlines\u001b[0m \u001b[1;33m=\u001b[0m \u001b[0maxis\u001b[0m\u001b[1;33m.\u001b[0m\u001b[0mget_gridlines\u001b[0m\u001b[1;33m(\u001b[0m\u001b[1;33m)\u001b[0m\u001b[1;33m\u001b[0m\u001b[1;33m\u001b[0m\u001b[0m\n\u001b[1;32m--> 241\u001b[1;33m     \u001b[1;32mif\u001b[0m \u001b[0maxis\u001b[0m\u001b[1;33m.\u001b[0m\u001b[0m_gridOnMajor\u001b[0m \u001b[1;32mand\u001b[0m \u001b[0mlen\u001b[0m\u001b[1;33m(\u001b[0m\u001b[0mgridlines\u001b[0m\u001b[1;33m)\u001b[0m \u001b[1;33m>\u001b[0m \u001b[1;36m0\u001b[0m\u001b[1;33m:\u001b[0m\u001b[1;33m\u001b[0m\u001b[1;33m\u001b[0m\u001b[0m\n\u001b[0m\u001b[0;32m    242\u001b[0m         \u001b[0mcolor\u001b[0m \u001b[1;33m=\u001b[0m \u001b[0mcolor_to_hex\u001b[0m\u001b[1;33m(\u001b[0m\u001b[0mgridlines\u001b[0m\u001b[1;33m[\u001b[0m\u001b[1;36m0\u001b[0m\u001b[1;33m]\u001b[0m\u001b[1;33m.\u001b[0m\u001b[0mget_color\u001b[0m\u001b[1;33m(\u001b[0m\u001b[1;33m)\u001b[0m\u001b[1;33m)\u001b[0m\u001b[1;33m\u001b[0m\u001b[1;33m\u001b[0m\u001b[0m\n\u001b[0;32m    243\u001b[0m         \u001b[0malpha\u001b[0m \u001b[1;33m=\u001b[0m \u001b[0mgridlines\u001b[0m\u001b[1;33m[\u001b[0m\u001b[1;36m0\u001b[0m\u001b[1;33m]\u001b[0m\u001b[1;33m.\u001b[0m\u001b[0mget_alpha\u001b[0m\u001b[1;33m(\u001b[0m\u001b[1;33m)\u001b[0m\u001b[1;33m\u001b[0m\u001b[1;33m\u001b[0m\u001b[0m\n",
      "\u001b[1;31mAttributeError\u001b[0m: 'XAxis' object has no attribute '_gridOnMajor'"
     ]
    }
   ],
   "source": [
    "figsize(10, 10)\n",
    "data.plot()\n",
    "mplleaflet.display()\n",
    "#mplleaflet.display(fig=ax.figure, crs=data.crs)"
   ]
  },
  {
   "cell_type": "markdown",
   "metadata": {},
   "source": [
    "## 3 Who participated in the mapping event?"
   ]
  },
  {
   "cell_type": "markdown",
   "metadata": {},
   "source": [
    "Now that the data is in the right format, we can start with the data analysis. First, we want to know who has participated in the mapping event. \n",
    "\n",
    "&rarr; So solve the following exercises, __refer to the [pandas reference](https://pandas.pydata.org/pandas-docs/stable/reference/)__ to find the right methods."
   ]
  },
  {
   "cell_type": "markdown",
   "metadata": {},
   "source": [
    "__E 3.1:__ Calculate the number of contributed points. "
   ]
  },
  {
   "cell_type": "code",
   "execution_count": 45,
   "metadata": {},
   "outputs": [
    {
     "data": {
      "text/plain": [
       "174"
      ]
     },
     "execution_count": 45,
     "metadata": {},
     "output_type": "execute_result"
    }
   ],
   "source": [
    "len(data)"
   ]
  },
  {
   "cell_type": "markdown",
   "metadata": {},
   "source": [
    "__E 3.2:__ Calculate the number of contributors (i.e. how many people participated)"
   ]
  },
  {
   "cell_type": "code",
   "execution_count": 44,
   "metadata": {},
   "outputs": [
    {
     "data": {
      "text/plain": [
       "17"
      ]
     },
     "execution_count": 44,
     "metadata": {},
     "output_type": "execute_result"
    }
   ],
   "source": [
    "len(data.deviceid.unique())"
   ]
  },
  {
   "cell_type": "markdown",
   "metadata": {},
   "source": [
    "__E 3.3:__ Calculate the number of points per contributor. Hint: Take a look at the method `value_counts` of the pandas dataframe."
   ]
  },
  {
   "cell_type": "code",
   "execution_count": 48,
   "metadata": {},
   "outputs": [
    {
     "data": {
      "text/plain": [
       "3     32\n",
       "9     32\n",
       "8     29\n",
       "1     15\n",
       "7     13\n",
       "5      8\n",
       "6      7\n",
       "10     7\n",
       "11     7\n",
       "14     6\n",
       "4      4\n",
       "12     4\n",
       "15     4\n",
       "13     3\n",
       "2      1\n",
       "16     1\n",
       "17     1\n",
       "Name: deviceid, dtype: int64"
      ]
     },
     "execution_count": 48,
     "metadata": {},
     "output_type": "execute_result"
    }
   ],
   "source": [
    "data.deviceid.value_counts()"
   ]
  },
  {
   "cell_type": "markdown",
   "metadata": {},
   "source": [
    "__E 3.4:__ Calculate the mean and median number of points per contributor."
   ]
  },
  {
   "cell_type": "code",
   "execution_count": 49,
   "metadata": {
    "scrolled": true
   },
   "outputs": [
    {
     "data": {
      "text/plain": [
       "10.235294117647058"
      ]
     },
     "execution_count": 49,
     "metadata": {},
     "output_type": "execute_result"
    }
   ],
   "source": [
    "data.deviceid.value_counts().mean()"
   ]
  },
  {
   "cell_type": "code",
   "execution_count": 50,
   "metadata": {},
   "outputs": [
    {
     "data": {
      "text/plain": [
       "7.0"
      ]
     },
     "execution_count": 50,
     "metadata": {},
     "output_type": "execute_result"
    }
   ],
   "source": [
    "data.deviceid.value_counts().median()"
   ]
  },
  {
   "cell_type": "markdown",
   "metadata": {},
   "source": [
    "__E 3.5:__ How many nodata values are contained in the columns? Cells without information by the contributor (i.e. nodata) are marked with a dash ('-'). Replace the '-' with `np.nan` and then count the sum of no data cells in each column.\n",
    "\n",
    "__Hint:__ Useful methods are `replace()`, `isna()` and `sum()`"
   ]
  },
  {
   "cell_type": "markdown",
   "metadata": {},
   "source": []
  },
  {
   "cell_type": "markdown",
   "metadata": {},
   "source": [
    "You will need numpy now, since we are using np.nan. "
   ]
  },
  {
   "cell_type": "code",
   "execution_count": 51,
   "metadata": {},
   "outputs": [],
   "source": [
    "import numpy as np"
   ]
  },
  {
   "cell_type": "code",
   "execution_count": 56,
   "metadata": {},
   "outputs": [
    {
     "data": {
      "text/plain": [
       "deviceid                                                                 0\n",
       "lat                                                                      0\n",
       "lon                                                                      0\n",
       "precision                                                                0\n",
       "Wie gut findest du den Radweg?                                           0\n",
       "Wie gut findest du die technische Ausstattung der Radinfrastruktur?      1\n",
       "Ausstattung                                                            174\n",
       "Bauliche oder markierte Trennung zu FußgängerInnen                      18\n",
       "Bauliche oder markierte Trennung von Autos                              18\n",
       "Bordsteinabsenkungen                                                    35\n",
       "Beleuchtung                                                             26\n",
       "Radwegbelag                                                             42\n",
       "Radwegmarkierung                                                        19\n",
       "Radwegbreite                                                            31\n",
       "Rote Markierung an Kreuzungen                                           41\n",
       "Gibt es eine zusätzliche technische Ausstattung?                       152\n",
       "Wie ist dein generelles Sicherheitsgefühl hier?                          5\n",
       "Gefahren:                                                              174\n",
       "Sichtbarkeit für AutofahrerInnen                                        38\n",
       "Abstand zu Autos                                                        32\n",
       "Abstand zu FußgängerInnen                                               36\n",
       "Angemessene Geschwindigkeit der Autos                                   40\n",
       "Gibt es eine zusätzliche Gefahrenquelle?                               140\n",
       "Wie ist dein generelles Fahrgefühl hier?                                 7\n",
       "Einflüsse:                                                             174\n",
       "Fahrfluss (z.B. grüner Pfeil für Radfahrende, Fahrradampel, ...)        51\n",
       "Luftqualität                                                            43\n",
       "Lärmbelastung                                                           40\n",
       "Begrünung                                                               37\n",
       "Übersichtlichkeit                                                       38\n",
       "Beschattung                                                             52\n",
       "Gibt es zusätzliche Einflussfaktoren auf das Fahrgefühl?               166\n",
       "submission_date                                                          0\n",
       "geometry                                                                 0\n",
       "dtype: int64"
      ]
     },
     "execution_count": 56,
     "metadata": {},
     "output_type": "execute_result"
    }
   ],
   "source": [
    "data_old = data.copy()\n",
    "data = data.replace(to_replace='-', value=np.nan)\n",
    "data.isna().sum()"
   ]
  },
  {
   "cell_type": "markdown",
   "metadata": {},
   "source": [
    "#### Precision\n",
    "Next to the lat and lon column there is column called `precision`. This indicates the precision of the GPS measurement of the mobile device. Let's see how precise the points are. "
   ]
  },
  {
   "cell_type": "markdown",
   "metadata": {},
   "source": [
    "__E 3.6:__ Calculate the mean, median and 90th percentile of the precision. "
   ]
  },
  {
   "cell_type": "code",
   "execution_count": 57,
   "metadata": {},
   "outputs": [
    {
     "data": {
      "text/plain": [
       "30.73154640197754"
      ]
     },
     "execution_count": 57,
     "metadata": {},
     "output_type": "execute_result"
    }
   ],
   "source": [
    "data.precision.mean()"
   ]
  },
  {
   "cell_type": "code",
   "execution_count": 58,
   "metadata": {},
   "outputs": [
    {
     "data": {
      "text/plain": [
       "15.038000106811523"
      ]
     },
     "execution_count": 58,
     "metadata": {},
     "output_type": "execute_result"
    }
   ],
   "source": [
    "data.precision.median()"
   ]
  },
  {
   "cell_type": "code",
   "execution_count": 59,
   "metadata": {},
   "outputs": [
    {
     "data": {
      "text/plain": [
       "25.566999435424805"
      ]
     },
     "execution_count": 59,
     "metadata": {},
     "output_type": "execute_result"
    }
   ],
   "source": [
    "data.precision.quantile(q=0.9)"
   ]
  },
  {
   "cell_type": "markdown",
   "metadata": {},
   "source": [
    "__E 3.7:__ Plot a histogram of the `precision` column. __Hint:__ Use the `GeoDataFrame.hist()` method. "
   ]
  },
  {
   "cell_type": "code",
   "execution_count": 61,
   "metadata": {
    "scrolled": false
   },
   "outputs": [
    {
     "data": {
      "text/plain": [
       "array([[<AxesSubplot:title={'center':'precision'}>]], dtype=object)"
      ]
     },
     "execution_count": 61,
     "metadata": {},
     "output_type": "execute_result"
    },
    {
     "data": {
      "image/png": "[encoded data removed]",
      "text/plain": [
       "<Figure size 720x720 with 1 Axes>"
      ]
     },
     "metadata": {
      "needs_background": "light"
     },
     "output_type": "display_data"
    }
   ],
   "source": [
    "data.hist(column='precision')"
   ]
  },
  {
   "cell_type": "markdown",
   "metadata": {},
   "source": [
    "\n",
    "__E 3.7:__ There seem to be some points with high uncertainty in the GPS measurements. Let's take a look at them. Select all points whose precision is larger than 40 meters. "
   ]
  },
  {
   "cell_type": "code",
   "execution_count": 64,
   "metadata": {},
   "outputs": [
    {
     "data": {
      "text/html": [
       "<div>\n",
       "<style scoped>\n",
       "    .dataframe tbody tr th:only-of-type {\n",
       "        vertical-align: middle;\n",
       "    }\n",
       "\n",
       "    .dataframe tbody tr th {\n",
       "        vertical-align: top;\n",
       "    }\n",
       "\n",
       "    .dataframe thead th {\n",
       "        text-align: right;\n",
       "    }\n",
       "</style>\n",
       "<table border=\"1\" class=\"dataframe\">\n",
       "  <thead>\n",
       "    <tr style=\"text-align: right;\">\n",
       "      <th></th>\n",
       "      <th>deviceid</th>\n",
       "      <th>lat</th>\n",
       "      <th>lon</th>\n",
       "      <th>precision</th>\n",
       "      <th>Wie gut findest du den Radweg?</th>\n",
       "      <th>Wie gut findest du die technische Ausstattung der Radinfrastruktur?</th>\n",
       "      <th>Ausstattung</th>\n",
       "      <th>Bauliche oder markierte Trennung zu FußgängerInnen</th>\n",
       "      <th>Bauliche oder markierte Trennung von Autos</th>\n",
       "      <th>Bordsteinabsenkungen</th>\n",
       "      <th>...</th>\n",
       "      <th>Einflüsse:</th>\n",
       "      <th>Fahrfluss (z.B. grüner Pfeil für Radfahrende, Fahrradampel, ...)</th>\n",
       "      <th>Luftqualität</th>\n",
       "      <th>Lärmbelastung</th>\n",
       "      <th>Begrünung</th>\n",
       "      <th>Übersichtlichkeit</th>\n",
       "      <th>Beschattung</th>\n",
       "      <th>Gibt es zusätzliche Einflussfaktoren auf das Fahrgefühl?</th>\n",
       "      <th>submission_date</th>\n",
       "      <th>geometry</th>\n",
       "    </tr>\n",
       "  </thead>\n",
       "  <tbody>\n",
       "    <tr>\n",
       "      <th>5</th>\n",
       "      <td>5</td>\n",
       "      <td>49.393040</td>\n",
       "      <td>8.682407</td>\n",
       "      <td>899.999023</td>\n",
       "      <td>schlecht</td>\n",
       "      <td>schlecht</td>\n",
       "      <td>NaN</td>\n",
       "      <td>schlecht</td>\n",
       "      <td>schlecht</td>\n",
       "      <td>NaN</td>\n",
       "      <td>...</td>\n",
       "      <td>NaN</td>\n",
       "      <td>NaN</td>\n",
       "      <td>gut</td>\n",
       "      <td>gut</td>\n",
       "      <td>neutral</td>\n",
       "      <td>gut</td>\n",
       "      <td>NaN</td>\n",
       "      <td>NaN</td>\n",
       "      <td>2020-05-22</td>\n",
       "      <td>POINT (8.68241 49.39304)</td>\n",
       "    </tr>\n",
       "    <tr>\n",
       "      <th>7</th>\n",
       "      <td>5</td>\n",
       "      <td>49.393532</td>\n",
       "      <td>8.684679</td>\n",
       "      <td>459.657990</td>\n",
       "      <td>tendenziell eher schlecht</td>\n",
       "      <td>tendenziell eher  schlecht</td>\n",
       "      <td>NaN</td>\n",
       "      <td>neutral</td>\n",
       "      <td>gut</td>\n",
       "      <td>neutral</td>\n",
       "      <td>...</td>\n",
       "      <td>NaN</td>\n",
       "      <td>NaN</td>\n",
       "      <td>schlecht</td>\n",
       "      <td>schlecht</td>\n",
       "      <td>schlecht</td>\n",
       "      <td>gut</td>\n",
       "      <td>NaN</td>\n",
       "      <td>NaN</td>\n",
       "      <td>2020-05-22</td>\n",
       "      <td>POINT (8.68468 49.39353)</td>\n",
       "    </tr>\n",
       "    <tr>\n",
       "      <th>9</th>\n",
       "      <td>3</td>\n",
       "      <td>49.408028</td>\n",
       "      <td>8.675391</td>\n",
       "      <td>57.666000</td>\n",
       "      <td>tendenziell eher gut</td>\n",
       "      <td>NaN</td>\n",
       "      <td>NaN</td>\n",
       "      <td>NaN</td>\n",
       "      <td>NaN</td>\n",
       "      <td>NaN</td>\n",
       "      <td>...</td>\n",
       "      <td>NaN</td>\n",
       "      <td>NaN</td>\n",
       "      <td>NaN</td>\n",
       "      <td>NaN</td>\n",
       "      <td>NaN</td>\n",
       "      <td>NaN</td>\n",
       "      <td>NaN</td>\n",
       "      <td>NaN</td>\n",
       "      <td>2020-05-22</td>\n",
       "      <td>POINT (8.67539 49.40803)</td>\n",
       "    </tr>\n",
       "    <tr>\n",
       "      <th>17</th>\n",
       "      <td>8</td>\n",
       "      <td>49.412319</td>\n",
       "      <td>8.675887</td>\n",
       "      <td>42.577000</td>\n",
       "      <td>sehr schlecht</td>\n",
       "      <td>sehr schlecht</td>\n",
       "      <td>NaN</td>\n",
       "      <td>neutral</td>\n",
       "      <td>gut</td>\n",
       "      <td>schlecht</td>\n",
       "      <td>...</td>\n",
       "      <td>NaN</td>\n",
       "      <td>schlecht</td>\n",
       "      <td>schlecht</td>\n",
       "      <td>schlecht</td>\n",
       "      <td>neutral</td>\n",
       "      <td>schlecht</td>\n",
       "      <td>gut</td>\n",
       "      <td>NaN</td>\n",
       "      <td>2020-05-22</td>\n",
       "      <td>POINT (8.67589 49.41232)</td>\n",
       "    </tr>\n",
       "    <tr>\n",
       "      <th>24</th>\n",
       "      <td>8</td>\n",
       "      <td>49.412319</td>\n",
       "      <td>8.675887</td>\n",
       "      <td>42.577000</td>\n",
       "      <td>schlecht</td>\n",
       "      <td>tendenziell eher  schlecht</td>\n",
       "      <td>NaN</td>\n",
       "      <td>neutral</td>\n",
       "      <td>schlecht</td>\n",
       "      <td>gut</td>\n",
       "      <td>...</td>\n",
       "      <td>NaN</td>\n",
       "      <td>gut</td>\n",
       "      <td>neutral</td>\n",
       "      <td>neutral</td>\n",
       "      <td>gut</td>\n",
       "      <td>schlecht</td>\n",
       "      <td>neutral</td>\n",
       "      <td>NaN</td>\n",
       "      <td>2020-05-22</td>\n",
       "      <td>POINT (8.67589 49.41232)</td>\n",
       "    </tr>\n",
       "    <tr>\n",
       "      <th>36</th>\n",
       "      <td>7</td>\n",
       "      <td>49.422024</td>\n",
       "      <td>8.640544</td>\n",
       "      <td>40.224998</td>\n",
       "      <td>gut</td>\n",
       "      <td>gut</td>\n",
       "      <td>NaN</td>\n",
       "      <td>schlecht</td>\n",
       "      <td>gut</td>\n",
       "      <td>schlecht</td>\n",
       "      <td>...</td>\n",
       "      <td>NaN</td>\n",
       "      <td>NaN</td>\n",
       "      <td>schlecht</td>\n",
       "      <td>schlecht</td>\n",
       "      <td>schlecht</td>\n",
       "      <td>NaN</td>\n",
       "      <td>schlecht</td>\n",
       "      <td>NaN</td>\n",
       "      <td>2020-05-22</td>\n",
       "      <td>POINT (8.64054 49.42202)</td>\n",
       "    </tr>\n",
       "    <tr>\n",
       "      <th>37</th>\n",
       "      <td>7</td>\n",
       "      <td>49.422024</td>\n",
       "      <td>8.640544</td>\n",
       "      <td>40.224998</td>\n",
       "      <td>gut</td>\n",
       "      <td>tendenziell eher gut</td>\n",
       "      <td>NaN</td>\n",
       "      <td>gut</td>\n",
       "      <td>gut</td>\n",
       "      <td>gut</td>\n",
       "      <td>...</td>\n",
       "      <td>NaN</td>\n",
       "      <td>gut</td>\n",
       "      <td>schlecht</td>\n",
       "      <td>schlecht</td>\n",
       "      <td>schlecht</td>\n",
       "      <td>neutral</td>\n",
       "      <td>schlecht</td>\n",
       "      <td>NaN</td>\n",
       "      <td>2020-05-22</td>\n",
       "      <td>POINT (8.64054 49.42202)</td>\n",
       "    </tr>\n",
       "    <tr>\n",
       "      <th>68</th>\n",
       "      <td>5</td>\n",
       "      <td>49.399193</td>\n",
       "      <td>8.684113</td>\n",
       "      <td>409.707001</td>\n",
       "      <td>tendenziell eher schlecht</td>\n",
       "      <td>tendenziell eher  schlecht</td>\n",
       "      <td>NaN</td>\n",
       "      <td>neutral</td>\n",
       "      <td>gut</td>\n",
       "      <td>schlecht</td>\n",
       "      <td>...</td>\n",
       "      <td>NaN</td>\n",
       "      <td>NaN</td>\n",
       "      <td>neutral</td>\n",
       "      <td>schlecht</td>\n",
       "      <td>neutral</td>\n",
       "      <td>schlecht</td>\n",
       "      <td>gut</td>\n",
       "      <td>NaN</td>\n",
       "      <td>2020-05-22</td>\n",
       "      <td>POINT (8.68411 49.39919)</td>\n",
       "    </tr>\n",
       "    <tr>\n",
       "      <th>123</th>\n",
       "      <td>14</td>\n",
       "      <td>49.415684</td>\n",
       "      <td>8.657790</td>\n",
       "      <td>1000.000000</td>\n",
       "      <td>tendenziell eher gut</td>\n",
       "      <td>tendenziell eher gut</td>\n",
       "      <td>NaN</td>\n",
       "      <td>gut</td>\n",
       "      <td>neutral</td>\n",
       "      <td>gut</td>\n",
       "      <td>...</td>\n",
       "      <td>NaN</td>\n",
       "      <td>gut</td>\n",
       "      <td>schlecht</td>\n",
       "      <td>schlecht</td>\n",
       "      <td>gut</td>\n",
       "      <td>gut</td>\n",
       "      <td>neutral</td>\n",
       "      <td>NaN</td>\n",
       "      <td>2020-05-22</td>\n",
       "      <td>POINT (8.65779 49.41568)</td>\n",
       "    </tr>\n",
       "  </tbody>\n",
       "</table>\n",
       "<p>9 rows × 34 columns</p>\n",
       "</div>"
      ],
      "text/plain": [
       "     deviceid        lat       lon    precision  \\\n",
       "5           5  49.393040  8.682407   899.999023   \n",
       "7           5  49.393532  8.684679   459.657990   \n",
       "9           3  49.408028  8.675391    57.666000   \n",
       "17          8  49.412319  8.675887    42.577000   \n",
       "24          8  49.412319  8.675887    42.577000   \n",
       "36          7  49.422024  8.640544    40.224998   \n",
       "37          7  49.422024  8.640544    40.224998   \n",
       "68          5  49.399193  8.684113   409.707001   \n",
       "123        14  49.415684  8.657790  1000.000000   \n",
       "\n",
       "    Wie gut findest du den Radweg?  \\\n",
       "5                         schlecht   \n",
       "7        tendenziell eher schlecht   \n",
       "9             tendenziell eher gut   \n",
       "17                   sehr schlecht   \n",
       "24                        schlecht   \n",
       "36                             gut   \n",
       "37                             gut   \n",
       "68       tendenziell eher schlecht   \n",
       "123           tendenziell eher gut   \n",
       "\n",
       "    Wie gut findest du die technische Ausstattung der Radinfrastruktur?  \\\n",
       "5                                             schlecht                    \n",
       "7                           tendenziell eher  schlecht                    \n",
       "9                                                  NaN                    \n",
       "17                                       sehr schlecht                    \n",
       "24                          tendenziell eher  schlecht                    \n",
       "36                                                 gut                    \n",
       "37                                tendenziell eher gut                    \n",
       "68                          tendenziell eher  schlecht                    \n",
       "123                               tendenziell eher gut                    \n",
       "\n",
       "     Ausstattung Bauliche oder markierte Trennung zu FußgängerInnen  \\\n",
       "5            NaN                                           schlecht   \n",
       "7            NaN                                            neutral   \n",
       "9            NaN                                                NaN   \n",
       "17           NaN                                            neutral   \n",
       "24           NaN                                            neutral   \n",
       "36           NaN                                           schlecht   \n",
       "37           NaN                                                gut   \n",
       "68           NaN                                            neutral   \n",
       "123          NaN                                                gut   \n",
       "\n",
       "    Bauliche oder markierte Trennung von Autos Bordsteinabsenkungen  ...  \\\n",
       "5                                     schlecht                  NaN  ...   \n",
       "7                                          gut              neutral  ...   \n",
       "9                                          NaN                  NaN  ...   \n",
       "17                                         gut             schlecht  ...   \n",
       "24                                    schlecht                  gut  ...   \n",
       "36                                         gut             schlecht  ...   \n",
       "37                                         gut                  gut  ...   \n",
       "68                                         gut             schlecht  ...   \n",
       "123                                    neutral                  gut  ...   \n",
       "\n",
       "    Einflüsse:  \\\n",
       "5          NaN   \n",
       "7          NaN   \n",
       "9          NaN   \n",
       "17         NaN   \n",
       "24         NaN   \n",
       "36         NaN   \n",
       "37         NaN   \n",
       "68         NaN   \n",
       "123        NaN   \n",
       "\n",
       "    Fahrfluss (z.B. grüner Pfeil für Radfahrende, Fahrradampel, ...)  \\\n",
       "5                                                  NaN                 \n",
       "7                                                  NaN                 \n",
       "9                                                  NaN                 \n",
       "17                                            schlecht                 \n",
       "24                                                 gut                 \n",
       "36                                                 NaN                 \n",
       "37                                                 gut                 \n",
       "68                                                 NaN                 \n",
       "123                                                gut                 \n",
       "\n",
       "    Luftqualität Lärmbelastung Begrünung Übersichtlichkeit Beschattung  \\\n",
       "5            gut           gut   neutral               gut         NaN   \n",
       "7       schlecht      schlecht  schlecht               gut         NaN   \n",
       "9            NaN           NaN       NaN               NaN         NaN   \n",
       "17      schlecht      schlecht   neutral          schlecht         gut   \n",
       "24       neutral       neutral       gut          schlecht     neutral   \n",
       "36      schlecht      schlecht  schlecht               NaN    schlecht   \n",
       "37      schlecht      schlecht  schlecht           neutral    schlecht   \n",
       "68       neutral      schlecht   neutral          schlecht         gut   \n",
       "123     schlecht      schlecht       gut               gut     neutral   \n",
       "\n",
       "     Gibt es zusätzliche Einflussfaktoren auf das Fahrgefühl? submission_date  \\\n",
       "5                                                  NaN             2020-05-22   \n",
       "7                                                  NaN             2020-05-22   \n",
       "9                                                  NaN             2020-05-22   \n",
       "17                                                 NaN             2020-05-22   \n",
       "24                                                 NaN             2020-05-22   \n",
       "36                                                 NaN             2020-05-22   \n",
       "37                                                 NaN             2020-05-22   \n",
       "68                                                 NaN             2020-05-22   \n",
       "123                                                NaN             2020-05-22   \n",
       "\n",
       "                     geometry  \n",
       "5    POINT (8.68241 49.39304)  \n",
       "7    POINT (8.68468 49.39353)  \n",
       "9    POINT (8.67539 49.40803)  \n",
       "17   POINT (8.67589 49.41232)  \n",
       "24   POINT (8.67589 49.41232)  \n",
       "36   POINT (8.64054 49.42202)  \n",
       "37   POINT (8.64054 49.42202)  \n",
       "68   POINT (8.68411 49.39919)  \n",
       "123  POINT (8.65779 49.41568)  \n",
       "\n",
       "[9 rows x 34 columns]"
      ]
     },
     "execution_count": 64,
     "metadata": {},
     "output_type": "execute_result"
    }
   ],
   "source": [
    "data_uncertain = data.loc[data[\"precision\"] > 40]\n",
    "data_uncertain"
   ]
  },
  {
   "cell_type": "markdown",
   "metadata": {},
   "source": [
    "__E 3.8:__ Plot the uncertain points on a map. "
   ]
  },
  {
   "cell_type": "code",
   "execution_count": 66,
   "metadata": {
    "scrolled": false
   },
   "outputs": [
    {
     "data": {
      "text/plain": [
       "<AxesSubplot:>"
      ]
     },
     "execution_count": 66,
     "metadata": {},
     "output_type": "execute_result"
    },
    {
     "data": {
      "image/png": "[encoded data removed]",
      "text/plain": [
       "<Figure size 720x720 with 1 Axes>"
      ]
     },
     "metadata": {
      "needs_background": "light"
     },
     "output_type": "display_data"
    }
   ],
   "source": [
    "figsize(10, 10)\n",
    "data_uncertain.plot()\n",
    "#mplleaflet.display()"
   ]
  },
  {
   "cell_type": "markdown",
   "metadata": {},
   "source": [
    "__E 3.9:__ Was there one specific device from which the uncertain GPS measurements originated or were they distributed among several devices?"
   ]
  },
  {
   "cell_type": "code",
   "execution_count": 67,
   "metadata": {},
   "outputs": [
    {
     "data": {
      "text/plain": [
       "array([ 5,  3,  8,  7, 14], dtype=int64)"
      ]
     },
     "execution_count": 67,
     "metadata": {},
     "output_type": "execute_result"
    }
   ],
   "source": [
    "data_uncertain.deviceid.unique()"
   ]
  },
  {
   "cell_type": "markdown",
   "metadata": {},
   "source": [
    "__E 3.10.:__ For the remaining analysis we want to explude these uncertain points. Remove all points from the dataframe `data` whose precision is larger than 40 meters. "
   ]
  },
  {
   "cell_type": "code",
   "execution_count": 72,
   "metadata": {},
   "outputs": [
    {
     "data": {
      "text/html": [
       "<div>\n",
       "<style scoped>\n",
       "    .dataframe tbody tr th:only-of-type {\n",
       "        vertical-align: middle;\n",
       "    }\n",
       "\n",
       "    .dataframe tbody tr th {\n",
       "        vertical-align: top;\n",
       "    }\n",
       "\n",
       "    .dataframe thead th {\n",
       "        text-align: right;\n",
       "    }\n",
       "</style>\n",
       "<table border=\"1\" class=\"dataframe\">\n",
       "  <thead>\n",
       "    <tr style=\"text-align: right;\">\n",
       "      <th></th>\n",
       "      <th>deviceid</th>\n",
       "      <th>lat</th>\n",
       "      <th>lon</th>\n",
       "      <th>precision</th>\n",
       "      <th>Wie gut findest du den Radweg?</th>\n",
       "      <th>Wie gut findest du die technische Ausstattung der Radinfrastruktur?</th>\n",
       "      <th>Ausstattung</th>\n",
       "      <th>Bauliche oder markierte Trennung zu FußgängerInnen</th>\n",
       "      <th>Bauliche oder markierte Trennung von Autos</th>\n",
       "      <th>Bordsteinabsenkungen</th>\n",
       "      <th>...</th>\n",
       "      <th>Einflüsse:</th>\n",
       "      <th>Fahrfluss (z.B. grüner Pfeil für Radfahrende, Fahrradampel, ...)</th>\n",
       "      <th>Luftqualität</th>\n",
       "      <th>Lärmbelastung</th>\n",
       "      <th>Begrünung</th>\n",
       "      <th>Übersichtlichkeit</th>\n",
       "      <th>Beschattung</th>\n",
       "      <th>Gibt es zusätzliche Einflussfaktoren auf das Fahrgefühl?</th>\n",
       "      <th>submission_date</th>\n",
       "      <th>geometry</th>\n",
       "    </tr>\n",
       "  </thead>\n",
       "  <tbody>\n",
       "    <tr>\n",
       "      <th>0</th>\n",
       "      <td>3</td>\n",
       "      <td>49.431396</td>\n",
       "      <td>8.668345</td>\n",
       "      <td>14.995</td>\n",
       "      <td>gut</td>\n",
       "      <td>tendenziell eher  schlecht</td>\n",
       "      <td>NaN</td>\n",
       "      <td>gut</td>\n",
       "      <td>schlecht</td>\n",
       "      <td>NaN</td>\n",
       "      <td>...</td>\n",
       "      <td>NaN</td>\n",
       "      <td>NaN</td>\n",
       "      <td>NaN</td>\n",
       "      <td>NaN</td>\n",
       "      <td>NaN</td>\n",
       "      <td>NaN</td>\n",
       "      <td>NaN</td>\n",
       "      <td>NaN</td>\n",
       "      <td>2020-05-22</td>\n",
       "      <td>POINT (8.66835 49.43140)</td>\n",
       "    </tr>\n",
       "    <tr>\n",
       "      <th>1</th>\n",
       "      <td>2</td>\n",
       "      <td>49.378628</td>\n",
       "      <td>8.662513</td>\n",
       "      <td>0.000</td>\n",
       "      <td>tendenziell eher schlecht</td>\n",
       "      <td>tendenziell eher  schlecht</td>\n",
       "      <td>NaN</td>\n",
       "      <td>NaN</td>\n",
       "      <td>NaN</td>\n",
       "      <td>schlecht</td>\n",
       "      <td>...</td>\n",
       "      <td>NaN</td>\n",
       "      <td>NaN</td>\n",
       "      <td>NaN</td>\n",
       "      <td>schlecht</td>\n",
       "      <td>NaN</td>\n",
       "      <td>NaN</td>\n",
       "      <td>NaN</td>\n",
       "      <td>NaN</td>\n",
       "      <td>2020-05-22</td>\n",
       "      <td>POINT (8.66251 49.37863)</td>\n",
       "    </tr>\n",
       "    <tr>\n",
       "      <th>2</th>\n",
       "      <td>4</td>\n",
       "      <td>49.393539</td>\n",
       "      <td>8.676201</td>\n",
       "      <td>0.000</td>\n",
       "      <td>schlecht</td>\n",
       "      <td>sehr schlecht</td>\n",
       "      <td>NaN</td>\n",
       "      <td>schlecht</td>\n",
       "      <td>schlecht</td>\n",
       "      <td>schlecht</td>\n",
       "      <td>...</td>\n",
       "      <td>NaN</td>\n",
       "      <td>neutral</td>\n",
       "      <td>neutral</td>\n",
       "      <td>neutral</td>\n",
       "      <td>schlecht</td>\n",
       "      <td>NaN</td>\n",
       "      <td>neutral</td>\n",
       "      <td>NaN</td>\n",
       "      <td>2020-05-22</td>\n",
       "      <td>POINT (8.67620 49.39354)</td>\n",
       "    </tr>\n",
       "    <tr>\n",
       "      <th>3</th>\n",
       "      <td>5</td>\n",
       "      <td>49.389133</td>\n",
       "      <td>8.683078</td>\n",
       "      <td>13.966</td>\n",
       "      <td>tendenziell eher schlecht</td>\n",
       "      <td>tendenziell eher gut</td>\n",
       "      <td>NaN</td>\n",
       "      <td>schlecht</td>\n",
       "      <td>gut</td>\n",
       "      <td>NaN</td>\n",
       "      <td>...</td>\n",
       "      <td>NaN</td>\n",
       "      <td>NaN</td>\n",
       "      <td>gut</td>\n",
       "      <td>gut</td>\n",
       "      <td>gut</td>\n",
       "      <td>schlecht</td>\n",
       "      <td>NaN</td>\n",
       "      <td>Unübersichtliche Kreuzung von fahrradwegen</td>\n",
       "      <td>2020-05-22</td>\n",
       "      <td>POINT (8.68308 49.38913)</td>\n",
       "    </tr>\n",
       "    <tr>\n",
       "      <th>4</th>\n",
       "      <td>6</td>\n",
       "      <td>49.426220</td>\n",
       "      <td>8.683111</td>\n",
       "      <td>0.000</td>\n",
       "      <td>sehr schlecht</td>\n",
       "      <td>sehr schlecht</td>\n",
       "      <td>NaN</td>\n",
       "      <td>neutral</td>\n",
       "      <td>schlecht</td>\n",
       "      <td>neutral</td>\n",
       "      <td>...</td>\n",
       "      <td>NaN</td>\n",
       "      <td>schlecht</td>\n",
       "      <td>schlecht</td>\n",
       "      <td>schlecht</td>\n",
       "      <td>neutral</td>\n",
       "      <td>schlecht</td>\n",
       "      <td>neutral</td>\n",
       "      <td>Unsicherheit aufgrund schlechter Markierungen....</td>\n",
       "      <td>2020-05-22</td>\n",
       "      <td>POINT (8.68311 49.42622)</td>\n",
       "    </tr>\n",
       "    <tr>\n",
       "      <th>...</th>\n",
       "      <td>...</td>\n",
       "      <td>...</td>\n",
       "      <td>...</td>\n",
       "      <td>...</td>\n",
       "      <td>...</td>\n",
       "      <td>...</td>\n",
       "      <td>...</td>\n",
       "      <td>...</td>\n",
       "      <td>...</td>\n",
       "      <td>...</td>\n",
       "      <td>...</td>\n",
       "      <td>...</td>\n",
       "      <td>...</td>\n",
       "      <td>...</td>\n",
       "      <td>...</td>\n",
       "      <td>...</td>\n",
       "      <td>...</td>\n",
       "      <td>...</td>\n",
       "      <td>...</td>\n",
       "      <td>...</td>\n",
       "      <td>...</td>\n",
       "    </tr>\n",
       "    <tr>\n",
       "      <th>169</th>\n",
       "      <td>15</td>\n",
       "      <td>49.409451</td>\n",
       "      <td>8.702234</td>\n",
       "      <td>0.000</td>\n",
       "      <td>gut</td>\n",
       "      <td>gut</td>\n",
       "      <td>NaN</td>\n",
       "      <td>gut</td>\n",
       "      <td>neutral</td>\n",
       "      <td>gut</td>\n",
       "      <td>...</td>\n",
       "      <td>NaN</td>\n",
       "      <td>gut</td>\n",
       "      <td>gut</td>\n",
       "      <td>gut</td>\n",
       "      <td>neutral</td>\n",
       "      <td>neutral</td>\n",
       "      <td>gut</td>\n",
       "      <td>NaN</td>\n",
       "      <td>2020-05-26</td>\n",
       "      <td>POINT (8.70223 49.40945)</td>\n",
       "    </tr>\n",
       "    <tr>\n",
       "      <th>170</th>\n",
       "      <td>15</td>\n",
       "      <td>49.413391</td>\n",
       "      <td>8.705764</td>\n",
       "      <td>0.000</td>\n",
       "      <td>gut</td>\n",
       "      <td>gut</td>\n",
       "      <td>NaN</td>\n",
       "      <td>schlecht</td>\n",
       "      <td>gut</td>\n",
       "      <td>gut</td>\n",
       "      <td>...</td>\n",
       "      <td>NaN</td>\n",
       "      <td>neutral</td>\n",
       "      <td>neutral</td>\n",
       "      <td>neutral</td>\n",
       "      <td>gut</td>\n",
       "      <td>neutral</td>\n",
       "      <td>neutral</td>\n",
       "      <td>NaN</td>\n",
       "      <td>2020-05-26</td>\n",
       "      <td>POINT (8.70576 49.41339)</td>\n",
       "    </tr>\n",
       "    <tr>\n",
       "      <th>171</th>\n",
       "      <td>15</td>\n",
       "      <td>49.407692</td>\n",
       "      <td>8.694391</td>\n",
       "      <td>0.000</td>\n",
       "      <td>sehr gut</td>\n",
       "      <td>sehr gut</td>\n",
       "      <td>NaN</td>\n",
       "      <td>gut</td>\n",
       "      <td>gut</td>\n",
       "      <td>gut</td>\n",
       "      <td>...</td>\n",
       "      <td>NaN</td>\n",
       "      <td>neutral</td>\n",
       "      <td>neutral</td>\n",
       "      <td>neutral</td>\n",
       "      <td>gut</td>\n",
       "      <td>gut</td>\n",
       "      <td>neutral</td>\n",
       "      <td>NaN</td>\n",
       "      <td>2020-05-26</td>\n",
       "      <td>POINT (8.69439 49.40769)</td>\n",
       "    </tr>\n",
       "    <tr>\n",
       "      <th>172</th>\n",
       "      <td>16</td>\n",
       "      <td>49.394886</td>\n",
       "      <td>8.689634</td>\n",
       "      <td>0.000</td>\n",
       "      <td>tendenziell eher gut</td>\n",
       "      <td>tendenziell eher gut</td>\n",
       "      <td>NaN</td>\n",
       "      <td>gut</td>\n",
       "      <td>gut</td>\n",
       "      <td>gut</td>\n",
       "      <td>...</td>\n",
       "      <td>NaN</td>\n",
       "      <td>NaN</td>\n",
       "      <td>gut</td>\n",
       "      <td>NaN</td>\n",
       "      <td>gut</td>\n",
       "      <td>neutral</td>\n",
       "      <td>neutral</td>\n",
       "      <td>NaN</td>\n",
       "      <td>2020-05-26</td>\n",
       "      <td>POINT (8.68963 49.39489)</td>\n",
       "    </tr>\n",
       "    <tr>\n",
       "      <th>173</th>\n",
       "      <td>17</td>\n",
       "      <td>49.380196</td>\n",
       "      <td>8.692331</td>\n",
       "      <td>5.000</td>\n",
       "      <td>schlecht</td>\n",
       "      <td>tendenziell eher  schlecht</td>\n",
       "      <td>NaN</td>\n",
       "      <td>gut</td>\n",
       "      <td>schlecht</td>\n",
       "      <td>neutral</td>\n",
       "      <td>...</td>\n",
       "      <td>NaN</td>\n",
       "      <td>schlecht</td>\n",
       "      <td>neutral</td>\n",
       "      <td>gut</td>\n",
       "      <td>gut</td>\n",
       "      <td>gut</td>\n",
       "      <td>NaN</td>\n",
       "      <td>NaN</td>\n",
       "      <td>2020-05-27</td>\n",
       "      <td>POINT (8.69233 49.38020)</td>\n",
       "    </tr>\n",
       "  </tbody>\n",
       "</table>\n",
       "<p>165 rows × 34 columns</p>\n",
       "</div>"
      ],
      "text/plain": [
       "     deviceid        lat       lon  precision Wie gut findest du den Radweg?  \\\n",
       "0           3  49.431396  8.668345     14.995                            gut   \n",
       "1           2  49.378628  8.662513      0.000      tendenziell eher schlecht   \n",
       "2           4  49.393539  8.676201      0.000                       schlecht   \n",
       "3           5  49.389133  8.683078     13.966      tendenziell eher schlecht   \n",
       "4           6  49.426220  8.683111      0.000                  sehr schlecht   \n",
       "..        ...        ...       ...        ...                            ...   \n",
       "169        15  49.409451  8.702234      0.000                            gut   \n",
       "170        15  49.413391  8.705764      0.000                            gut   \n",
       "171        15  49.407692  8.694391      0.000                       sehr gut   \n",
       "172        16  49.394886  8.689634      0.000           tendenziell eher gut   \n",
       "173        17  49.380196  8.692331      5.000                       schlecht   \n",
       "\n",
       "    Wie gut findest du die technische Ausstattung der Radinfrastruktur?  \\\n",
       "0                           tendenziell eher  schlecht                    \n",
       "1                           tendenziell eher  schlecht                    \n",
       "2                                        sehr schlecht                    \n",
       "3                                 tendenziell eher gut                    \n",
       "4                                        sehr schlecht                    \n",
       "..                                                 ...                    \n",
       "169                                                gut                    \n",
       "170                                                gut                    \n",
       "171                                           sehr gut                    \n",
       "172                               tendenziell eher gut                    \n",
       "173                         tendenziell eher  schlecht                    \n",
       "\n",
       "     Ausstattung Bauliche oder markierte Trennung zu FußgängerInnen  \\\n",
       "0            NaN                                                gut   \n",
       "1            NaN                                                NaN   \n",
       "2            NaN                                           schlecht   \n",
       "3            NaN                                           schlecht   \n",
       "4            NaN                                            neutral   \n",
       "..           ...                                                ...   \n",
       "169          NaN                                                gut   \n",
       "170          NaN                                           schlecht   \n",
       "171          NaN                                                gut   \n",
       "172          NaN                                                gut   \n",
       "173          NaN                                                gut   \n",
       "\n",
       "    Bauliche oder markierte Trennung von Autos Bordsteinabsenkungen  ...  \\\n",
       "0                                     schlecht                  NaN  ...   \n",
       "1                                          NaN             schlecht  ...   \n",
       "2                                     schlecht             schlecht  ...   \n",
       "3                                          gut                  NaN  ...   \n",
       "4                                     schlecht              neutral  ...   \n",
       "..                                         ...                  ...  ...   \n",
       "169                                    neutral                  gut  ...   \n",
       "170                                        gut                  gut  ...   \n",
       "171                                        gut                  gut  ...   \n",
       "172                                        gut                  gut  ...   \n",
       "173                                   schlecht              neutral  ...   \n",
       "\n",
       "    Einflüsse:  \\\n",
       "0          NaN   \n",
       "1          NaN   \n",
       "2          NaN   \n",
       "3          NaN   \n",
       "4          NaN   \n",
       "..         ...   \n",
       "169        NaN   \n",
       "170        NaN   \n",
       "171        NaN   \n",
       "172        NaN   \n",
       "173        NaN   \n",
       "\n",
       "    Fahrfluss (z.B. grüner Pfeil für Radfahrende, Fahrradampel, ...)  \\\n",
       "0                                                  NaN                 \n",
       "1                                                  NaN                 \n",
       "2                                              neutral                 \n",
       "3                                                  NaN                 \n",
       "4                                             schlecht                 \n",
       "..                                                 ...                 \n",
       "169                                                gut                 \n",
       "170                                            neutral                 \n",
       "171                                            neutral                 \n",
       "172                                                NaN                 \n",
       "173                                           schlecht                 \n",
       "\n",
       "    Luftqualität Lärmbelastung Begrünung Übersichtlichkeit Beschattung  \\\n",
       "0            NaN           NaN       NaN               NaN         NaN   \n",
       "1            NaN      schlecht       NaN               NaN         NaN   \n",
       "2        neutral       neutral  schlecht               NaN     neutral   \n",
       "3            gut           gut       gut          schlecht         NaN   \n",
       "4       schlecht      schlecht   neutral          schlecht     neutral   \n",
       "..           ...           ...       ...               ...         ...   \n",
       "169          gut           gut   neutral           neutral         gut   \n",
       "170      neutral       neutral       gut           neutral     neutral   \n",
       "171      neutral       neutral       gut               gut     neutral   \n",
       "172          gut           NaN       gut           neutral     neutral   \n",
       "173      neutral           gut       gut               gut         NaN   \n",
       "\n",
       "     Gibt es zusätzliche Einflussfaktoren auf das Fahrgefühl? submission_date  \\\n",
       "0                                                  NaN             2020-05-22   \n",
       "1                                                  NaN             2020-05-22   \n",
       "2                                                  NaN             2020-05-22   \n",
       "3           Unübersichtliche Kreuzung von fahrradwegen             2020-05-22   \n",
       "4    Unsicherheit aufgrund schlechter Markierungen....             2020-05-22   \n",
       "..                                                 ...                    ...   \n",
       "169                                                NaN             2020-05-26   \n",
       "170                                                NaN             2020-05-26   \n",
       "171                                                NaN             2020-05-26   \n",
       "172                                                NaN             2020-05-26   \n",
       "173                                                NaN             2020-05-27   \n",
       "\n",
       "                     geometry  \n",
       "0    POINT (8.66835 49.43140)  \n",
       "1    POINT (8.66251 49.37863)  \n",
       "2    POINT (8.67620 49.39354)  \n",
       "3    POINT (8.68308 49.38913)  \n",
       "4    POINT (8.68311 49.42622)  \n",
       "..                        ...  \n",
       "169  POINT (8.70223 49.40945)  \n",
       "170  POINT (8.70576 49.41339)  \n",
       "171  POINT (8.69439 49.40769)  \n",
       "172  POINT (8.68963 49.39489)  \n",
       "173  POINT (8.69233 49.38020)  \n",
       "\n",
       "[165 rows x 34 columns]"
      ]
     },
     "execution_count": 72,
     "metadata": {},
     "output_type": "execute_result"
    }
   ],
   "source": [
    "data_all = data.copy()\n",
    "data = data.loc[data[\"precision\"] < 40]"
   ]
  },
  {
   "cell_type": "markdown",
   "metadata": {},
   "source": [
    "## 4 How is bike safety perceived in Heidelberg?"
   ]
  },
  {
   "cell_type": "markdown",
   "metadata": {},
   "source": [
    "Now let's look at the collected data itself. We are only going to classify the main criteria for now: \n",
    "* 'Wie gut findest du den Radweg?'\n",
    "* 'Wie gut findest du die technische Ausstattung der Radinfrastruktur?'\n",
    "* 'Wie ist dein generelles Sicherheitsgefühl hier?'\n",
    "* 'Wie ist dein generelles Fahrgefühl hier?'"
   ]
  },
  {
   "cell_type": "markdown",
   "metadata": {},
   "source": [
    "### Exploring the main criteria"
   ]
  },
  {
   "cell_type": "markdown",
   "metadata": {},
   "source": [
    "__E 4.1:__ The ratings are given as strings and are therefore not well suitable for statistical analysis. Reclassify them to numeric values of the range 1 (sehr gut) to 6 (sehr schlecht). Save the result to a new dataframe called `data_num`.\n",
    "\n",
    "__Hint:__ Use the method `.replace()`"
   ]
  },
  {
   "cell_type": "code",
   "execution_count": null,
   "metadata": {},
   "outputs": [],
   "source": [
    "reclass_dict = {\"sehr gut\": 1, \"gut\": 2, \"tendenziell eher gut\": 3, \"tendenziell eher schlecht\":4, \n",
    "               \"schlecht\": 5, \"sehr schlecht\":6, 'tendenziell eher  schlecht':4, \"-\": np.nan, \"neutral\": 3}"
   ]
  },
  {
   "cell_type": "code",
   "execution_count": null,
   "metadata": {},
   "outputs": [],
   "source": []
  },
  {
   "cell_type": "markdown",
   "metadata": {},
   "source": [
    "__E 4.2:__ The column names are quite long, which makes it a bit cumbersome to slice the dataframe by column names. Rename the columns of the `data_num` dataframe according to this dictionary. \n",
    "\n",
    "__Hint:__ Use the method `.rename()`"
   ]
  },
  {
   "cell_type": "code",
   "execution_count": null,
   "metadata": {},
   "outputs": [],
   "source": [
    "column_dict = {'Wie gut findest du den Radweg?': \"Allgemein\", \n",
    "              'Wie gut findest du die technische Ausstattung der Radinfrastruktur?': \"Technische Ausstattung\",\n",
    "              'Wie ist dein generelles Sicherheitsgefühl hier?': \"Sicherheitsgefühl\",\n",
    "              'Wie ist dein generelles Fahrgefühl hier?': \"Fahrgefühl\"}"
   ]
  },
  {
   "cell_type": "code",
   "execution_count": null,
   "metadata": {},
   "outputs": [],
   "source": []
  },
  {
   "cell_type": "markdown",
   "metadata": {},
   "source": [
    "__E 4.3:__ Create a dataframe object called `main_criteria` which contains only the 4 main criteria, i.e. the 4 columns we just renamed.\n",
    "\n",
    "__Hint:__ You can convert the GeoDataFrame to a normal DataFrame now, since we got rid of the geometry column anyways. "
   ]
  },
  {
   "cell_type": "code",
   "execution_count": null,
   "metadata": {},
   "outputs": [],
   "source": []
  },
  {
   "cell_type": "markdown",
   "metadata": {},
   "source": [
    "__E 4.4:__ Calculate the mean and standard deviation of the rating of each criteria"
   ]
  },
  {
   "cell_type": "code",
   "execution_count": null,
   "metadata": {},
   "outputs": [],
   "source": []
  },
  {
   "cell_type": "code",
   "execution_count": null,
   "metadata": {},
   "outputs": [],
   "source": []
  },
  {
   "cell_type": "markdown",
   "metadata": {},
   "source": [
    "__E 4.5:__ Calculate a correclation matrix between all columns. \n",
    "    \n",
    "__Hint:__ Use the method `.corr()`"
   ]
  },
  {
   "cell_type": "code",
   "execution_count": null,
   "metadata": {},
   "outputs": [],
   "source": []
  },
  {
   "cell_type": "markdown",
   "metadata": {},
   "source": [
    "Do you see any patterns? "
   ]
  },
  {
   "cell_type": "code",
   "execution_count": null,
   "metadata": {},
   "outputs": [],
   "source": [
    "# your answer here"
   ]
  },
  {
   "cell_type": "markdown",
   "metadata": {},
   "source": [
    "__E 4.6:__ What is the mean rating of each criteria per contributor? Join the column \"deviceid\" to the `main_criteria` data frame using the `DataFrame.join()` method.\n",
    "\n",
    "&rarr; For joining tables, take a look at the section [Merge, join, concatenate and compare](https://pandas.pydata.org/pandas-docs/stable/user_guide/merging.html)\n",
    "\n",
    "Then group the rows by `deviceid` using the `groupby()` method. \n",
    "\n",
    "&rarr; For grouping take a look at the section [Group by: split-apply-combine](https://pandas.pydata.org/pandas-docs/stable/user_guide/groupby.html)"
   ]
  },
  {
   "cell_type": "code",
   "execution_count": null,
   "metadata": {},
   "outputs": [],
   "source": []
  },
  {
   "cell_type": "code",
   "execution_count": null,
   "metadata": {},
   "outputs": [],
   "source": []
  },
  {
   "cell_type": "markdown",
   "metadata": {},
   "source": [
    "__E 4.7:__ Create a boxplot showing the distribution of ratings of each main criteria. \n",
    "\n",
    "&rarr; Take a look at [Pandas Visualizations](https://pandas.pydata.org/pandas-docs/stable/user_guide/visualization.html)"
   ]
  },
  {
   "cell_type": "code",
   "execution_count": null,
   "metadata": {},
   "outputs": [],
   "source": []
  },
  {
   "cell_type": "markdown",
   "metadata": {},
   "source": [
    "__Question:__ What is the oveall perception of bike safety in Heidelberg? Are there any relationships between the 4 main criteria that were surveyed?"
   ]
  },
  {
   "cell_type": "markdown",
   "metadata": {},
   "source": [
    "__Answer:__"
   ]
  },
  {
   "cell_type": "code",
   "execution_count": null,
   "metadata": {},
   "outputs": [],
   "source": []
  },
  {
   "cell_type": "markdown",
   "metadata": {},
   "source": [
    "## 5 Are there differences in the perceived bike safety between the districts of Heidelberg? "
   ]
  },
  {
   "cell_type": "markdown",
   "metadata": {},
   "source": [
    "From the map we can see that the points are not evenly distributed across Heidelberg. So let's aggregate the data based on the districts of Heidelberg."
   ]
  },
  {
   "cell_type": "markdown",
   "metadata": {},
   "source": [
    "__E 5.1:__ Read the following file containing the districts of Heidelberg into a variable called `districts`. What's the coordinate reference system of dataframe? "
   ]
  },
  {
   "cell_type": "code",
   "execution_count": null,
   "metadata": {},
   "outputs": [],
   "source": [
    "districts_hd_file = \"./data/districts_hd.geojson\""
   ]
  },
  {
   "cell_type": "code",
   "execution_count": null,
   "metadata": {},
   "outputs": [],
   "source": []
  },
  {
   "cell_type": "code",
   "execution_count": null,
   "metadata": {},
   "outputs": [],
   "source": []
  },
  {
   "cell_type": "markdown",
   "metadata": {},
   "source": [
    "__E 5.2:__ We only need the columns 'geometry' and 'Stadtteil'. Remove all other columns dataframe. "
   ]
  },
  {
   "cell_type": "code",
   "execution_count": null,
   "metadata": {},
   "outputs": [],
   "source": []
  },
  {
   "cell_type": "markdown",
   "metadata": {},
   "source": [
    "__E 5.3:__ Perform a spatial join between the dataframe `data_num` and the districts. Save it to a new variables called `data_with_district`.\n",
    "\n",
    "&rarr; Take a look at the [GeoPandas User Manual on Spatial Joins](https://geopandas.org/mergingdata.html#spatial-joins)."
   ]
  },
  {
   "cell_type": "code",
   "execution_count": null,
   "metadata": {},
   "outputs": [],
   "source": []
  },
  {
   "cell_type": "markdown",
   "metadata": {},
   "source": [
    "__E 5.4:__ Calculate the number of point per district. "
   ]
  },
  {
   "cell_type": "code",
   "execution_count": null,
   "metadata": {},
   "outputs": [],
   "source": []
  },
  {
   "cell_type": "markdown",
   "metadata": {},
   "source": [
    "__E 5.5:__ Create a pie chart showing the number of points per district. \n",
    "\n",
    "&rarr; Take a look at &rarr; [Pandas Visualizations](https://pandas.pydata.org/pandas-docs/stable/user_guide/visualization.html)"
   ]
  },
  {
   "cell_type": "code",
   "execution_count": null,
   "metadata": {},
   "outputs": [],
   "source": []
  },
  {
   "cell_type": "markdown",
   "metadata": {},
   "source": [
    "__E 5.6:__ Calculate the number of contributors per district. "
   ]
  },
  {
   "cell_type": "code",
   "execution_count": null,
   "metadata": {},
   "outputs": [],
   "source": []
  },
  {
   "cell_type": "markdown",
   "metadata": {},
   "source": [
    "__E 5.7:__ Create a horizontal bar chart showing the number of contributors per district. Sort the dataframe by the column \"deviceid\" ( `.sort_values()`) before plotting so that they are shown in descending order. \n",
    "\n",
    "&rarr; Take a look at [Pandas Visualizations](https://pandas.pydata.org/pandas-docs/stable/user_guide/visualization.html) to find the method to create a horizontal barplot. "
   ]
  },
  {
   "cell_type": "code",
   "execution_count": null,
   "metadata": {},
   "outputs": [],
   "source": []
  },
  {
   "cell_type": "markdown",
   "metadata": {},
   "source": [
    "__E 5.8:__ Create a boxplot showing the rating \"Allgemein\" across all districts. Join the dataframes `main_criteria` and `data_with_district[\"Stadtteil\"]`. Afterwards create a boxplot using the method `DataFrame.boxplot()`."
   ]
  },
  {
   "cell_type": "code",
   "execution_count": null,
   "metadata": {},
   "outputs": [],
   "source": []
  },
  {
   "cell_type": "markdown",
   "metadata": {},
   "source": [
    "__Question:__ \n",
    "1. Which differences do you see in the number of contributors, the number of points and the perceived bike safety? \n",
    "2. How reliable are these findings based on the collected data?"
   ]
  },
  {
   "cell_type": "markdown",
   "metadata": {},
   "source": [
    "__Answer:__ "
   ]
  },
  {
   "cell_type": "code",
   "execution_count": null,
   "metadata": {},
   "outputs": [],
   "source": []
  },
  {
   "cell_type": "markdown",
   "metadata": {},
   "source": [
    "## 6 Are large streets perceived to be more dangerous than small ones? "
   ]
  },
  {
   "cell_type": "markdown",
   "metadata": {},
   "source": [
    "On the map it seems like points located close to the main streets show worse ratings than others. We will analyze this by calculating the distance to main streets extracted from OpenStreetMap. "
   ]
  },
  {
   "cell_type": "markdown",
   "metadata": {},
   "source": [
    "### Read OpenStreetMap streets"
   ]
  },
  {
   "cell_type": "markdown",
   "metadata": {},
   "source": [
    "__E 6.1:__ Read the data set \"streets.geojson\" into a dataframe called `streets`."
   ]
  },
  {
   "cell_type": "code",
   "execution_count": null,
   "metadata": {},
   "outputs": [],
   "source": [
    "streets_file = \"./data/streets.geojson\""
   ]
  },
  {
   "cell_type": "code",
   "execution_count": null,
   "metadata": {},
   "outputs": [],
   "source": []
  },
  {
   "cell_type": "markdown",
   "metadata": {},
   "source": [
    "__E 6.2:__ Select all streets which contain the tag highway = primary. "
   ]
  },
  {
   "cell_type": "code",
   "execution_count": null,
   "metadata": {},
   "outputs": [],
   "source": []
  },
  {
   "cell_type": "markdown",
   "metadata": {},
   "source": [
    "### Calculate distance to streets\n",
    "__E 6.3:__ We want to get the distance to the streets in meters. What is the coordinate references system of the geodataframes `data_num` and `streets`? Convert them to the crs with the EPSG:32632. \n",
    "\n",
    "__Hint:__ Some methods of Pandas (and GeoPandas) provide the parameter `inplace`. If you set `inplace=true`, the dataframe object itself will be changed and the method does not return any value. It is basically overriding the dataframe. So `dataframe.to_crs(..., inplace=True)` yields the same as `dataframe = dataframe.to_crs(...)`"
   ]
  },
  {
   "cell_type": "code",
   "execution_count": null,
   "metadata": {},
   "outputs": [],
   "source": []
  },
  {
   "cell_type": "code",
   "execution_count": null,
   "metadata": {},
   "outputs": [],
   "source": []
  },
  {
   "cell_type": "markdown",
   "metadata": {},
   "source": [
    "__E 6.4:__ Calculate the distance from each point to the next primary street using the `distance()` method. \n",
    "    \n",
    "__Hint:__ It might be necessary to unionize the streets first using `cascaded_union`."
   ]
  },
  {
   "cell_type": "code",
   "execution_count": null,
   "metadata": {
    "scrolled": false
   },
   "outputs": [],
   "source": []
  },
  {
   "cell_type": "markdown",
   "metadata": {},
   "source": [
    "__E 6.5:__ Plot a choropleth map showing the points and their distance visualized using a color map. \n",
    "\n",
    "__Hint:__ If you want to use the mplleaflet.display() to plot a basemap your dataframe needs to have EPSG:4326.\n",
    "\n",
    "&rarr; Take a look at the [GeoPandas User Guide on Choropleth Maps](https://geopandas.org/mapping.html#choropleth-maps)"
   ]
  },
  {
   "cell_type": "code",
   "execution_count": null,
   "metadata": {
    "scrolled": false
   },
   "outputs": [],
   "source": []
  },
  {
   "cell_type": "markdown",
   "metadata": {},
   "source": [
    "__E 6.6:__ Create boxplots showing the distances for each rating category. Answer the question: "
   ]
  },
  {
   "cell_type": "code",
   "execution_count": null,
   "metadata": {},
   "outputs": [],
   "source": []
  },
  {
   "cell_type": "markdown",
   "metadata": {},
   "source": [
    "__E 6.7:__ Compute the same for the distance to streets with the tag highway=secondary and highway=tertiary."
   ]
  },
  {
   "cell_type": "code",
   "execution_count": null,
   "metadata": {},
   "outputs": [],
   "source": []
  },
  {
   "cell_type": "code",
   "execution_count": null,
   "metadata": {},
   "outputs": [],
   "source": []
  },
  {
   "cell_type": "markdown",
   "metadata": {},
   "source": [
    "__Question:__ Do you an influence on the safety rating based on the different street types? Are larger streets perceived as more dangerous? "
   ]
  },
  {
   "cell_type": "markdown",
   "metadata": {},
   "source": [
    "__Answer:__ "
   ]
  },
  {
   "cell_type": "code",
   "execution_count": null,
   "metadata": {},
   "outputs": [],
   "source": []
  },
  {
   "cell_type": "markdown",
   "metadata": {},
   "source": [
    "## 7 Your Analyses\n",
    "\n",
    "__E 7.1:__ Come up with one more geographic question and answer it using pandas and geopandas methods. "
   ]
  },
  {
   "cell_type": "code",
   "execution_count": null,
   "metadata": {},
   "outputs": [],
   "source": []
  },
  {
   "cell_type": "markdown",
   "metadata": {},
   "source": [
    "__E 7.2:__ Go through the [GeoPandas](https://geopandas.org/) User guide and [Pandas](https://pandas.pydata.org/pandas-docs/stable/user_guide/index.html) User guides to find three more methods which we haven't applied in this analysis so far, e.g. MultiIndex, overlay, dissolve, attribute join, etc. Apply them to the data sets."
   ]
  },
  {
   "cell_type": "code",
   "execution_count": null,
   "metadata": {},
   "outputs": [],
   "source": []
  }
 ],
 "metadata": {
  "kernelspec": {
   "display_name": "Python 3",
   "language": "python",
   "name": "python3"
  },
  "language_info": {
   "codemirror_mode": {
    "name": "ipython",
    "version": 3
   },
   "file_extension": ".py",
   "mimetype": "text/x-python",
   "name": "python",
   "nbconvert_exporter": "python",
   "pygments_lexer": "ipython3",
   "version": "3.7.10"
  }
 },
 "nbformat": 4,
 "nbformat_minor": 2
}
